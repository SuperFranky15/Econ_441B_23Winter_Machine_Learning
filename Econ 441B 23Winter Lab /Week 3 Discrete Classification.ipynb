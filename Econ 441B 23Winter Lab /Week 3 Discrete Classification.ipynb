{
  "nbformat": 4,
  "nbformat_minor": 0,
  "metadata": {
    "colab": {
      "provenance": []
    },
    "kernelspec": {
      "name": "python3",
      "display_name": "Python 3"
    },
    "language_info": {
      "name": "python"
    }
  },
  "cells": [
    {
      "cell_type": "markdown",
      "source": [
        "# **Econ 441B W23 Lec3**"
      ],
      "metadata": {
        "id": "inPEyvlGEvim"
      }
    },
    {
      "cell_type": "markdown",
      "source": [
        "# **Juntao Li 906092273**"
      ],
      "metadata": {
        "id": "HEpdWZyTEvPJ"
      }
    },
    {
      "cell_type": "markdown",
      "source": [
        "# 1.) Import the Credit Card Fraud Data From CCLE"
      ],
      "metadata": {
        "id": "7ywSRtNI4s5h"
      }
    },
    {
      "cell_type": "code",
      "execution_count": 1,
      "metadata": {
        "id": "nsG1QV154GYZ"
      },
      "outputs": [],
      "source": [
        "import pandas as pd\n",
        "from google.colab import drive\n",
        "import matplotlib.pyplot as plt\n",
        "import numpy as np"
      ]
    },
    {
      "cell_type": "code",
      "source": [
        "drive.mount('/content/gdrive/', force_remount = True)"
      ],
      "metadata": {
        "colab": {
          "base_uri": "https://localhost:8080/"
        },
        "id": "Iku0T8Ou4Lcu",
        "outputId": "761b0fd4-b87c-49b6-b13d-5753b0798972"
      },
      "execution_count": 2,
      "outputs": [
        {
          "output_type": "stream",
          "name": "stdout",
          "text": [
            "Mounted at /content/gdrive/\n"
          ]
        }
      ]
    },
    {
      "cell_type": "code",
      "source": [
        "df = pd.read_csv(\"/content/gdrive/MyDrive/Econ 441B 23Winter/fraudTest.csv\")"
      ],
      "metadata": {
        "id": "KJQfo8mz43Kz"
      },
      "execution_count": 3,
      "outputs": []
    },
    {
      "cell_type": "code",
      "source": [
        "df.head()"
      ],
      "metadata": {
        "colab": {
          "base_uri": "https://localhost:8080/",
          "height": 525
        },
        "id": "mKWSRv-q98wE",
        "outputId": "138d34e7-450d-49df-c745-ddf141a64ca8"
      },
      "execution_count": 4,
      "outputs": [
        {
          "output_type": "execute_result",
          "data": {
            "text/plain": [
              "   Unnamed: 0 trans_date_trans_time            cc_num  \\\n",
              "0           0   2020-06-21 12:14:25  2291163933867244   \n",
              "1           1   2020-06-21 12:14:33  3573030041201292   \n",
              "2           2   2020-06-21 12:14:53  3598215285024754   \n",
              "3           3   2020-06-21 12:15:15  3591919803438423   \n",
              "4           4   2020-06-21 12:15:17  3526826139003047   \n",
              "\n",
              "                               merchant        category    amt   first  \\\n",
              "0                 fraud_Kirlin and Sons   personal_care   2.86    Jeff   \n",
              "1                  fraud_Sporer-Keebler   personal_care  29.84  Joanne   \n",
              "2  fraud_Swaniawski, Nitzsche and Welch  health_fitness  41.28  Ashley   \n",
              "3                     fraud_Haley Group        misc_pos  60.05   Brian   \n",
              "4                 fraud_Johnston-Casper          travel   3.19  Nathan   \n",
              "\n",
              "       last gender                       street  ...      lat      long  \\\n",
              "0   Elliott      M            351 Darlene Green  ...  33.9659  -80.9355   \n",
              "1  Williams      F             3638 Marsh Union  ...  40.3207 -110.4360   \n",
              "2     Lopez      F         9333 Valentine Point  ...  40.6729  -73.5365   \n",
              "3  Williams      M  32941 Krystal Mill Apt. 552  ...  28.5697  -80.8191   \n",
              "4    Massey      M     5783 Evan Roads Apt. 465  ...  44.2529  -85.0170   \n",
              "\n",
              "   city_pop                     job         dob  \\\n",
              "0    333497     Mechanical engineer  1968-03-19   \n",
              "1       302  Sales professional, IT  1990-01-17   \n",
              "2     34496       Librarian, public  1970-10-21   \n",
              "3     54767            Set designer  1987-07-25   \n",
              "4      1126      Furniture designer  1955-07-06   \n",
              "\n",
              "                          trans_num   unix_time  merch_lat  merch_long  \\\n",
              "0  2da90c7d74bd46a0caf3777415b3ebd3  1371816865  33.986391  -81.200714   \n",
              "1  324cc204407e99f51b0d6ca0055005e7  1371816873  39.450498 -109.960431   \n",
              "2  c81755dbbbea9d5c77f094348a7579be  1371816893  40.495810  -74.196111   \n",
              "3  2159175b9efe66dc301f149d3d5abf8c  1371816915  28.812398  -80.883061   \n",
              "4  57ff021bd3f328f8738bb535c302a31b  1371816917  44.959148  -85.884734   \n",
              "\n",
              "   is_fraud  \n",
              "0         0  \n",
              "1         0  \n",
              "2         0  \n",
              "3         0  \n",
              "4         0  \n",
              "\n",
              "[5 rows x 23 columns]"
            ],
            "text/html": [
              "\n",
              "  <div id=\"df-69ded691-89d9-434d-9467-ad55e49b9f23\">\n",
              "    <div class=\"colab-df-container\">\n",
              "      <div>\n",
              "<style scoped>\n",
              "    .dataframe tbody tr th:only-of-type {\n",
              "        vertical-align: middle;\n",
              "    }\n",
              "\n",
              "    .dataframe tbody tr th {\n",
              "        vertical-align: top;\n",
              "    }\n",
              "\n",
              "    .dataframe thead th {\n",
              "        text-align: right;\n",
              "    }\n",
              "</style>\n",
              "<table border=\"1\" class=\"dataframe\">\n",
              "  <thead>\n",
              "    <tr style=\"text-align: right;\">\n",
              "      <th></th>\n",
              "      <th>Unnamed: 0</th>\n",
              "      <th>trans_date_trans_time</th>\n",
              "      <th>cc_num</th>\n",
              "      <th>merchant</th>\n",
              "      <th>category</th>\n",
              "      <th>amt</th>\n",
              "      <th>first</th>\n",
              "      <th>last</th>\n",
              "      <th>gender</th>\n",
              "      <th>street</th>\n",
              "      <th>...</th>\n",
              "      <th>lat</th>\n",
              "      <th>long</th>\n",
              "      <th>city_pop</th>\n",
              "      <th>job</th>\n",
              "      <th>dob</th>\n",
              "      <th>trans_num</th>\n",
              "      <th>unix_time</th>\n",
              "      <th>merch_lat</th>\n",
              "      <th>merch_long</th>\n",
              "      <th>is_fraud</th>\n",
              "    </tr>\n",
              "  </thead>\n",
              "  <tbody>\n",
              "    <tr>\n",
              "      <th>0</th>\n",
              "      <td>0</td>\n",
              "      <td>2020-06-21 12:14:25</td>\n",
              "      <td>2291163933867244</td>\n",
              "      <td>fraud_Kirlin and Sons</td>\n",
              "      <td>personal_care</td>\n",
              "      <td>2.86</td>\n",
              "      <td>Jeff</td>\n",
              "      <td>Elliott</td>\n",
              "      <td>M</td>\n",
              "      <td>351 Darlene Green</td>\n",
              "      <td>...</td>\n",
              "      <td>33.9659</td>\n",
              "      <td>-80.9355</td>\n",
              "      <td>333497</td>\n",
              "      <td>Mechanical engineer</td>\n",
              "      <td>1968-03-19</td>\n",
              "      <td>2da90c7d74bd46a0caf3777415b3ebd3</td>\n",
              "      <td>1371816865</td>\n",
              "      <td>33.986391</td>\n",
              "      <td>-81.200714</td>\n",
              "      <td>0</td>\n",
              "    </tr>\n",
              "    <tr>\n",
              "      <th>1</th>\n",
              "      <td>1</td>\n",
              "      <td>2020-06-21 12:14:33</td>\n",
              "      <td>3573030041201292</td>\n",
              "      <td>fraud_Sporer-Keebler</td>\n",
              "      <td>personal_care</td>\n",
              "      <td>29.84</td>\n",
              "      <td>Joanne</td>\n",
              "      <td>Williams</td>\n",
              "      <td>F</td>\n",
              "      <td>3638 Marsh Union</td>\n",
              "      <td>...</td>\n",
              "      <td>40.3207</td>\n",
              "      <td>-110.4360</td>\n",
              "      <td>302</td>\n",
              "      <td>Sales professional, IT</td>\n",
              "      <td>1990-01-17</td>\n",
              "      <td>324cc204407e99f51b0d6ca0055005e7</td>\n",
              "      <td>1371816873</td>\n",
              "      <td>39.450498</td>\n",
              "      <td>-109.960431</td>\n",
              "      <td>0</td>\n",
              "    </tr>\n",
              "    <tr>\n",
              "      <th>2</th>\n",
              "      <td>2</td>\n",
              "      <td>2020-06-21 12:14:53</td>\n",
              "      <td>3598215285024754</td>\n",
              "      <td>fraud_Swaniawski, Nitzsche and Welch</td>\n",
              "      <td>health_fitness</td>\n",
              "      <td>41.28</td>\n",
              "      <td>Ashley</td>\n",
              "      <td>Lopez</td>\n",
              "      <td>F</td>\n",
              "      <td>9333 Valentine Point</td>\n",
              "      <td>...</td>\n",
              "      <td>40.6729</td>\n",
              "      <td>-73.5365</td>\n",
              "      <td>34496</td>\n",
              "      <td>Librarian, public</td>\n",
              "      <td>1970-10-21</td>\n",
              "      <td>c81755dbbbea9d5c77f094348a7579be</td>\n",
              "      <td>1371816893</td>\n",
              "      <td>40.495810</td>\n",
              "      <td>-74.196111</td>\n",
              "      <td>0</td>\n",
              "    </tr>\n",
              "    <tr>\n",
              "      <th>3</th>\n",
              "      <td>3</td>\n",
              "      <td>2020-06-21 12:15:15</td>\n",
              "      <td>3591919803438423</td>\n",
              "      <td>fraud_Haley Group</td>\n",
              "      <td>misc_pos</td>\n",
              "      <td>60.05</td>\n",
              "      <td>Brian</td>\n",
              "      <td>Williams</td>\n",
              "      <td>M</td>\n",
              "      <td>32941 Krystal Mill Apt. 552</td>\n",
              "      <td>...</td>\n",
              "      <td>28.5697</td>\n",
              "      <td>-80.8191</td>\n",
              "      <td>54767</td>\n",
              "      <td>Set designer</td>\n",
              "      <td>1987-07-25</td>\n",
              "      <td>2159175b9efe66dc301f149d3d5abf8c</td>\n",
              "      <td>1371816915</td>\n",
              "      <td>28.812398</td>\n",
              "      <td>-80.883061</td>\n",
              "      <td>0</td>\n",
              "    </tr>\n",
              "    <tr>\n",
              "      <th>4</th>\n",
              "      <td>4</td>\n",
              "      <td>2020-06-21 12:15:17</td>\n",
              "      <td>3526826139003047</td>\n",
              "      <td>fraud_Johnston-Casper</td>\n",
              "      <td>travel</td>\n",
              "      <td>3.19</td>\n",
              "      <td>Nathan</td>\n",
              "      <td>Massey</td>\n",
              "      <td>M</td>\n",
              "      <td>5783 Evan Roads Apt. 465</td>\n",
              "      <td>...</td>\n",
              "      <td>44.2529</td>\n",
              "      <td>-85.0170</td>\n",
              "      <td>1126</td>\n",
              "      <td>Furniture designer</td>\n",
              "      <td>1955-07-06</td>\n",
              "      <td>57ff021bd3f328f8738bb535c302a31b</td>\n",
              "      <td>1371816917</td>\n",
              "      <td>44.959148</td>\n",
              "      <td>-85.884734</td>\n",
              "      <td>0</td>\n",
              "    </tr>\n",
              "  </tbody>\n",
              "</table>\n",
              "<p>5 rows × 23 columns</p>\n",
              "</div>\n",
              "      <button class=\"colab-df-convert\" onclick=\"convertToInteractive('df-69ded691-89d9-434d-9467-ad55e49b9f23')\"\n",
              "              title=\"Convert this dataframe to an interactive table.\"\n",
              "              style=\"display:none;\">\n",
              "        \n",
              "  <svg xmlns=\"http://www.w3.org/2000/svg\" height=\"24px\"viewBox=\"0 0 24 24\"\n",
              "       width=\"24px\">\n",
              "    <path d=\"M0 0h24v24H0V0z\" fill=\"none\"/>\n",
              "    <path d=\"M18.56 5.44l.94 2.06.94-2.06 2.06-.94-2.06-.94-.94-2.06-.94 2.06-2.06.94zm-11 1L8.5 8.5l.94-2.06 2.06-.94-2.06-.94L8.5 2.5l-.94 2.06-2.06.94zm10 10l.94 2.06.94-2.06 2.06-.94-2.06-.94-.94-2.06-.94 2.06-2.06.94z\"/><path d=\"M17.41 7.96l-1.37-1.37c-.4-.4-.92-.59-1.43-.59-.52 0-1.04.2-1.43.59L10.3 9.45l-7.72 7.72c-.78.78-.78 2.05 0 2.83L4 21.41c.39.39.9.59 1.41.59.51 0 1.02-.2 1.41-.59l7.78-7.78 2.81-2.81c.8-.78.8-2.07 0-2.86zM5.41 20L4 18.59l7.72-7.72 1.47 1.35L5.41 20z\"/>\n",
              "  </svg>\n",
              "      </button>\n",
              "      \n",
              "  <style>\n",
              "    .colab-df-container {\n",
              "      display:flex;\n",
              "      flex-wrap:wrap;\n",
              "      gap: 12px;\n",
              "    }\n",
              "\n",
              "    .colab-df-convert {\n",
              "      background-color: #E8F0FE;\n",
              "      border: none;\n",
              "      border-radius: 50%;\n",
              "      cursor: pointer;\n",
              "      display: none;\n",
              "      fill: #1967D2;\n",
              "      height: 32px;\n",
              "      padding: 0 0 0 0;\n",
              "      width: 32px;\n",
              "    }\n",
              "\n",
              "    .colab-df-convert:hover {\n",
              "      background-color: #E2EBFA;\n",
              "      box-shadow: 0px 1px 2px rgba(60, 64, 67, 0.3), 0px 1px 3px 1px rgba(60, 64, 67, 0.15);\n",
              "      fill: #174EA6;\n",
              "    }\n",
              "\n",
              "    [theme=dark] .colab-df-convert {\n",
              "      background-color: #3B4455;\n",
              "      fill: #D2E3FC;\n",
              "    }\n",
              "\n",
              "    [theme=dark] .colab-df-convert:hover {\n",
              "      background-color: #434B5C;\n",
              "      box-shadow: 0px 1px 3px 1px rgba(0, 0, 0, 0.15);\n",
              "      filter: drop-shadow(0px 1px 2px rgba(0, 0, 0, 0.3));\n",
              "      fill: #FFFFFF;\n",
              "    }\n",
              "  </style>\n",
              "\n",
              "      <script>\n",
              "        const buttonEl =\n",
              "          document.querySelector('#df-69ded691-89d9-434d-9467-ad55e49b9f23 button.colab-df-convert');\n",
              "        buttonEl.style.display =\n",
              "          google.colab.kernel.accessAllowed ? 'block' : 'none';\n",
              "\n",
              "        async function convertToInteractive(key) {\n",
              "          const element = document.querySelector('#df-69ded691-89d9-434d-9467-ad55e49b9f23');\n",
              "          const dataTable =\n",
              "            await google.colab.kernel.invokeFunction('convertToInteractive',\n",
              "                                                     [key], {});\n",
              "          if (!dataTable) return;\n",
              "\n",
              "          const docLinkHtml = 'Like what you see? Visit the ' +\n",
              "            '<a target=\"_blank\" href=https://colab.research.google.com/notebooks/data_table.ipynb>data table notebook</a>'\n",
              "            + ' to learn more about interactive tables.';\n",
              "          element.innerHTML = '';\n",
              "          dataTable['output_type'] = 'display_data';\n",
              "          await google.colab.output.renderOutput(dataTable, element);\n",
              "          const docLink = document.createElement('div');\n",
              "          docLink.innerHTML = docLinkHtml;\n",
              "          element.appendChild(docLink);\n",
              "        }\n",
              "      </script>\n",
              "    </div>\n",
              "  </div>\n",
              "  "
            ]
          },
          "metadata": {},
          "execution_count": 4
        }
      ]
    },
    {
      "cell_type": "markdown",
      "source": [
        "# 2.) Select four columns to use as features (one just be trans_date_trans)"
      ],
      "metadata": {
        "id": "8VsnpGe9-B3p"
      }
    },
    {
      "cell_type": "code",
      "source": [
        "df_select = df[[\"trans_date_trans_time\", \"category\", \"amt\", \"zip\", \"is_fraud\"]]"
      ],
      "metadata": {
        "id": "1tpCDMW198ym"
      },
      "execution_count": 5,
      "outputs": []
    },
    {
      "cell_type": "code",
      "source": [
        "df_select.columns"
      ],
      "metadata": {
        "colab": {
          "base_uri": "https://localhost:8080/"
        },
        "id": "FZvnpERK981d",
        "outputId": "41f9e5c3-a47b-43bc-cd4b-01c46890a271"
      },
      "execution_count": 6,
      "outputs": [
        {
          "output_type": "execute_result",
          "data": {
            "text/plain": [
              "Index(['trans_date_trans_time', 'category', 'amt', 'zip', 'is_fraud'], dtype='object')"
            ]
          },
          "metadata": {},
          "execution_count": 6
        }
      ]
    },
    {
      "cell_type": "code",
      "source": [
        "df_select"
      ],
      "metadata": {
        "id": "JvCzIdgO983i",
        "colab": {
          "base_uri": "https://localhost:8080/",
          "height": 423
        },
        "outputId": "2fc2e492-d598-45be-d2fc-ecdf7868601d"
      },
      "execution_count": 7,
      "outputs": [
        {
          "output_type": "execute_result",
          "data": {
            "text/plain": [
              "       trans_date_trans_time        category     amt    zip  is_fraud\n",
              "0        2020-06-21 12:14:25   personal_care    2.86  29209         0\n",
              "1        2020-06-21 12:14:33   personal_care   29.84  84002         0\n",
              "2        2020-06-21 12:14:53  health_fitness   41.28  11710         0\n",
              "3        2020-06-21 12:15:15        misc_pos   60.05  32780         0\n",
              "4        2020-06-21 12:15:17          travel    3.19  49632         0\n",
              "...                      ...             ...     ...    ...       ...\n",
              "555714   2020-12-31 23:59:07  health_fitness   43.77  63453         0\n",
              "555715   2020-12-31 23:59:09       kids_pets  111.84  77566         0\n",
              "555716   2020-12-31 23:59:15       kids_pets   86.88  99323         0\n",
              "555717   2020-12-31 23:59:24          travel    7.99  83643         0\n",
              "555718   2020-12-31 23:59:34   entertainment   38.13  73034         0\n",
              "\n",
              "[555719 rows x 5 columns]"
            ],
            "text/html": [
              "\n",
              "  <div id=\"df-7e79d73d-c131-4ef8-8ae3-9fceb2f56fb9\">\n",
              "    <div class=\"colab-df-container\">\n",
              "      <div>\n",
              "<style scoped>\n",
              "    .dataframe tbody tr th:only-of-type {\n",
              "        vertical-align: middle;\n",
              "    }\n",
              "\n",
              "    .dataframe tbody tr th {\n",
              "        vertical-align: top;\n",
              "    }\n",
              "\n",
              "    .dataframe thead th {\n",
              "        text-align: right;\n",
              "    }\n",
              "</style>\n",
              "<table border=\"1\" class=\"dataframe\">\n",
              "  <thead>\n",
              "    <tr style=\"text-align: right;\">\n",
              "      <th></th>\n",
              "      <th>trans_date_trans_time</th>\n",
              "      <th>category</th>\n",
              "      <th>amt</th>\n",
              "      <th>zip</th>\n",
              "      <th>is_fraud</th>\n",
              "    </tr>\n",
              "  </thead>\n",
              "  <tbody>\n",
              "    <tr>\n",
              "      <th>0</th>\n",
              "      <td>2020-06-21 12:14:25</td>\n",
              "      <td>personal_care</td>\n",
              "      <td>2.86</td>\n",
              "      <td>29209</td>\n",
              "      <td>0</td>\n",
              "    </tr>\n",
              "    <tr>\n",
              "      <th>1</th>\n",
              "      <td>2020-06-21 12:14:33</td>\n",
              "      <td>personal_care</td>\n",
              "      <td>29.84</td>\n",
              "      <td>84002</td>\n",
              "      <td>0</td>\n",
              "    </tr>\n",
              "    <tr>\n",
              "      <th>2</th>\n",
              "      <td>2020-06-21 12:14:53</td>\n",
              "      <td>health_fitness</td>\n",
              "      <td>41.28</td>\n",
              "      <td>11710</td>\n",
              "      <td>0</td>\n",
              "    </tr>\n",
              "    <tr>\n",
              "      <th>3</th>\n",
              "      <td>2020-06-21 12:15:15</td>\n",
              "      <td>misc_pos</td>\n",
              "      <td>60.05</td>\n",
              "      <td>32780</td>\n",
              "      <td>0</td>\n",
              "    </tr>\n",
              "    <tr>\n",
              "      <th>4</th>\n",
              "      <td>2020-06-21 12:15:17</td>\n",
              "      <td>travel</td>\n",
              "      <td>3.19</td>\n",
              "      <td>49632</td>\n",
              "      <td>0</td>\n",
              "    </tr>\n",
              "    <tr>\n",
              "      <th>...</th>\n",
              "      <td>...</td>\n",
              "      <td>...</td>\n",
              "      <td>...</td>\n",
              "      <td>...</td>\n",
              "      <td>...</td>\n",
              "    </tr>\n",
              "    <tr>\n",
              "      <th>555714</th>\n",
              "      <td>2020-12-31 23:59:07</td>\n",
              "      <td>health_fitness</td>\n",
              "      <td>43.77</td>\n",
              "      <td>63453</td>\n",
              "      <td>0</td>\n",
              "    </tr>\n",
              "    <tr>\n",
              "      <th>555715</th>\n",
              "      <td>2020-12-31 23:59:09</td>\n",
              "      <td>kids_pets</td>\n",
              "      <td>111.84</td>\n",
              "      <td>77566</td>\n",
              "      <td>0</td>\n",
              "    </tr>\n",
              "    <tr>\n",
              "      <th>555716</th>\n",
              "      <td>2020-12-31 23:59:15</td>\n",
              "      <td>kids_pets</td>\n",
              "      <td>86.88</td>\n",
              "      <td>99323</td>\n",
              "      <td>0</td>\n",
              "    </tr>\n",
              "    <tr>\n",
              "      <th>555717</th>\n",
              "      <td>2020-12-31 23:59:24</td>\n",
              "      <td>travel</td>\n",
              "      <td>7.99</td>\n",
              "      <td>83643</td>\n",
              "      <td>0</td>\n",
              "    </tr>\n",
              "    <tr>\n",
              "      <th>555718</th>\n",
              "      <td>2020-12-31 23:59:34</td>\n",
              "      <td>entertainment</td>\n",
              "      <td>38.13</td>\n",
              "      <td>73034</td>\n",
              "      <td>0</td>\n",
              "    </tr>\n",
              "  </tbody>\n",
              "</table>\n",
              "<p>555719 rows × 5 columns</p>\n",
              "</div>\n",
              "      <button class=\"colab-df-convert\" onclick=\"convertToInteractive('df-7e79d73d-c131-4ef8-8ae3-9fceb2f56fb9')\"\n",
              "              title=\"Convert this dataframe to an interactive table.\"\n",
              "              style=\"display:none;\">\n",
              "        \n",
              "  <svg xmlns=\"http://www.w3.org/2000/svg\" height=\"24px\"viewBox=\"0 0 24 24\"\n",
              "       width=\"24px\">\n",
              "    <path d=\"M0 0h24v24H0V0z\" fill=\"none\"/>\n",
              "    <path d=\"M18.56 5.44l.94 2.06.94-2.06 2.06-.94-2.06-.94-.94-2.06-.94 2.06-2.06.94zm-11 1L8.5 8.5l.94-2.06 2.06-.94-2.06-.94L8.5 2.5l-.94 2.06-2.06.94zm10 10l.94 2.06.94-2.06 2.06-.94-2.06-.94-.94-2.06-.94 2.06-2.06.94z\"/><path d=\"M17.41 7.96l-1.37-1.37c-.4-.4-.92-.59-1.43-.59-.52 0-1.04.2-1.43.59L10.3 9.45l-7.72 7.72c-.78.78-.78 2.05 0 2.83L4 21.41c.39.39.9.59 1.41.59.51 0 1.02-.2 1.41-.59l7.78-7.78 2.81-2.81c.8-.78.8-2.07 0-2.86zM5.41 20L4 18.59l7.72-7.72 1.47 1.35L5.41 20z\"/>\n",
              "  </svg>\n",
              "      </button>\n",
              "      \n",
              "  <style>\n",
              "    .colab-df-container {\n",
              "      display:flex;\n",
              "      flex-wrap:wrap;\n",
              "      gap: 12px;\n",
              "    }\n",
              "\n",
              "    .colab-df-convert {\n",
              "      background-color: #E8F0FE;\n",
              "      border: none;\n",
              "      border-radius: 50%;\n",
              "      cursor: pointer;\n",
              "      display: none;\n",
              "      fill: #1967D2;\n",
              "      height: 32px;\n",
              "      padding: 0 0 0 0;\n",
              "      width: 32px;\n",
              "    }\n",
              "\n",
              "    .colab-df-convert:hover {\n",
              "      background-color: #E2EBFA;\n",
              "      box-shadow: 0px 1px 2px rgba(60, 64, 67, 0.3), 0px 1px 3px 1px rgba(60, 64, 67, 0.15);\n",
              "      fill: #174EA6;\n",
              "    }\n",
              "\n",
              "    [theme=dark] .colab-df-convert {\n",
              "      background-color: #3B4455;\n",
              "      fill: #D2E3FC;\n",
              "    }\n",
              "\n",
              "    [theme=dark] .colab-df-convert:hover {\n",
              "      background-color: #434B5C;\n",
              "      box-shadow: 0px 1px 3px 1px rgba(0, 0, 0, 0.15);\n",
              "      filter: drop-shadow(0px 1px 2px rgba(0, 0, 0, 0.3));\n",
              "      fill: #FFFFFF;\n",
              "    }\n",
              "  </style>\n",
              "\n",
              "      <script>\n",
              "        const buttonEl =\n",
              "          document.querySelector('#df-7e79d73d-c131-4ef8-8ae3-9fceb2f56fb9 button.colab-df-convert');\n",
              "        buttonEl.style.display =\n",
              "          google.colab.kernel.accessAllowed ? 'block' : 'none';\n",
              "\n",
              "        async function convertToInteractive(key) {\n",
              "          const element = document.querySelector('#df-7e79d73d-c131-4ef8-8ae3-9fceb2f56fb9');\n",
              "          const dataTable =\n",
              "            await google.colab.kernel.invokeFunction('convertToInteractive',\n",
              "                                                     [key], {});\n",
              "          if (!dataTable) return;\n",
              "\n",
              "          const docLinkHtml = 'Like what you see? Visit the ' +\n",
              "            '<a target=\"_blank\" href=https://colab.research.google.com/notebooks/data_table.ipynb>data table notebook</a>'\n",
              "            + ' to learn more about interactive tables.';\n",
              "          element.innerHTML = '';\n",
              "          dataTable['output_type'] = 'display_data';\n",
              "          await google.colab.output.renderOutput(dataTable, element);\n",
              "          const docLink = document.createElement('div');\n",
              "          docLink.innerHTML = docLinkHtml;\n",
              "          element.appendChild(docLink);\n",
              "        }\n",
              "      </script>\n",
              "    </div>\n",
              "  </div>\n",
              "  "
            ]
          },
          "metadata": {},
          "execution_count": 7
        }
      ]
    },
    {
      "cell_type": "markdown",
      "source": [
        "# 3.) Create a your own variable out of trans_date. Create dummies for factor vars"
      ],
      "metadata": {
        "id": "lbkpNPyN-Gnk"
      }
    },
    {
      "cell_type": "code",
      "source": [
        "type(df_select[\"trans_date_trans_time\"][0])"
      ],
      "metadata": {
        "colab": {
          "base_uri": "https://localhost:8080/"
        },
        "id": "gG88uxbiV4lZ",
        "outputId": "5dc54b1c-22b1-4e4a-fae9-596b7fe24c17"
      },
      "execution_count": 8,
      "outputs": [
        {
          "output_type": "execute_result",
          "data": {
            "text/plain": [
              "str"
            ]
          },
          "metadata": {},
          "execution_count": 8
        }
      ]
    },
    {
      "cell_type": "code",
      "source": [
        "df_select[\"trans_date_trans_time\"] = pd.to_datetime(df_select[\"trans_date_trans_time\"])"
      ],
      "metadata": {
        "colab": {
          "base_uri": "https://localhost:8080/"
        },
        "id": "cNu6ysyV988v",
        "outputId": "81459cfa-84dc-477a-ce1d-9328ec4b7b97"
      },
      "execution_count": 9,
      "outputs": [
        {
          "output_type": "stream",
          "name": "stderr",
          "text": [
            "<ipython-input-9-99f721e4ce0f>:1: SettingWithCopyWarning: \n",
            "A value is trying to be set on a copy of a slice from a DataFrame.\n",
            "Try using .loc[row_indexer,col_indexer] = value instead\n",
            "\n",
            "See the caveats in the documentation: https://pandas.pydata.org/pandas-docs/stable/user_guide/indexing.html#returning-a-view-versus-a-copy\n",
            "  df_select[\"trans_date_trans_time\"] = pd.to_datetime(df_select[\"trans_date_trans_time\"])\n"
          ]
        }
      ]
    },
    {
      "cell_type": "code",
      "source": [
        "df_select[\"time_var\"] = [i.hour for i in df_select[\"trans_date_trans_time\"]]"
      ],
      "metadata": {
        "colab": {
          "base_uri": "https://localhost:8080/"
        },
        "id": "xQE60rwv98_F",
        "outputId": "a41ccf15-1dd3-4393-a1c1-bad49d81894e"
      },
      "execution_count": 10,
      "outputs": [
        {
          "output_type": "stream",
          "name": "stderr",
          "text": [
            "<ipython-input-10-f84357779188>:1: SettingWithCopyWarning: \n",
            "A value is trying to be set on a copy of a slice from a DataFrame.\n",
            "Try using .loc[row_indexer,col_indexer] = value instead\n",
            "\n",
            "See the caveats in the documentation: https://pandas.pydata.org/pandas-docs/stable/user_guide/indexing.html#returning-a-view-versus-a-copy\n",
            "  df_select[\"time_var\"] = [i.hour for i in df_select[\"trans_date_trans_time\"]]\n"
          ]
        }
      ]
    },
    {
      "cell_type": "code",
      "source": [
        "x = pd.get_dummies(df_select, [\"category\"]).drop([\"trans_date_trans_time\", \"is_fraud\"], axis = 1)\n",
        "y = df[\"is_fraud\"]"
      ],
      "metadata": {
        "id": "bkfqhq4J99A6"
      },
      "execution_count": 11,
      "outputs": []
    },
    {
      "cell_type": "code",
      "source": [
        "x.head()"
      ],
      "metadata": {
        "colab": {
          "base_uri": "https://localhost:8080/",
          "height": 270
        },
        "id": "4GvhU8UN99DR",
        "outputId": "a101756e-7de4-4a9d-b6a0-e695baba66f0"
      },
      "execution_count": 12,
      "outputs": [
        {
          "output_type": "execute_result",
          "data": {
            "text/plain": [
              "     amt    zip  time_var  category_entertainment  category_food_dining  \\\n",
              "0   2.86  29209        12                       0                     0   \n",
              "1  29.84  84002        12                       0                     0   \n",
              "2  41.28  11710        12                       0                     0   \n",
              "3  60.05  32780        12                       0                     0   \n",
              "4   3.19  49632        12                       0                     0   \n",
              "\n",
              "   category_gas_transport  category_grocery_net  category_grocery_pos  \\\n",
              "0                       0                     0                     0   \n",
              "1                       0                     0                     0   \n",
              "2                       0                     0                     0   \n",
              "3                       0                     0                     0   \n",
              "4                       0                     0                     0   \n",
              "\n",
              "   category_health_fitness  category_home  category_kids_pets  \\\n",
              "0                        0              0                   0   \n",
              "1                        0              0                   0   \n",
              "2                        1              0                   0   \n",
              "3                        0              0                   0   \n",
              "4                        0              0                   0   \n",
              "\n",
              "   category_misc_net  category_misc_pos  category_personal_care  \\\n",
              "0                  0                  0                       1   \n",
              "1                  0                  0                       1   \n",
              "2                  0                  0                       0   \n",
              "3                  0                  1                       0   \n",
              "4                  0                  0                       0   \n",
              "\n",
              "   category_shopping_net  category_shopping_pos  category_travel  \n",
              "0                      0                      0                0  \n",
              "1                      0                      0                0  \n",
              "2                      0                      0                0  \n",
              "3                      0                      0                0  \n",
              "4                      0                      0                1  "
            ],
            "text/html": [
              "\n",
              "  <div id=\"df-facfa410-9faf-4734-9d05-08e23d2361f2\">\n",
              "    <div class=\"colab-df-container\">\n",
              "      <div>\n",
              "<style scoped>\n",
              "    .dataframe tbody tr th:only-of-type {\n",
              "        vertical-align: middle;\n",
              "    }\n",
              "\n",
              "    .dataframe tbody tr th {\n",
              "        vertical-align: top;\n",
              "    }\n",
              "\n",
              "    .dataframe thead th {\n",
              "        text-align: right;\n",
              "    }\n",
              "</style>\n",
              "<table border=\"1\" class=\"dataframe\">\n",
              "  <thead>\n",
              "    <tr style=\"text-align: right;\">\n",
              "      <th></th>\n",
              "      <th>amt</th>\n",
              "      <th>zip</th>\n",
              "      <th>time_var</th>\n",
              "      <th>category_entertainment</th>\n",
              "      <th>category_food_dining</th>\n",
              "      <th>category_gas_transport</th>\n",
              "      <th>category_grocery_net</th>\n",
              "      <th>category_grocery_pos</th>\n",
              "      <th>category_health_fitness</th>\n",
              "      <th>category_home</th>\n",
              "      <th>category_kids_pets</th>\n",
              "      <th>category_misc_net</th>\n",
              "      <th>category_misc_pos</th>\n",
              "      <th>category_personal_care</th>\n",
              "      <th>category_shopping_net</th>\n",
              "      <th>category_shopping_pos</th>\n",
              "      <th>category_travel</th>\n",
              "    </tr>\n",
              "  </thead>\n",
              "  <tbody>\n",
              "    <tr>\n",
              "      <th>0</th>\n",
              "      <td>2.86</td>\n",
              "      <td>29209</td>\n",
              "      <td>12</td>\n",
              "      <td>0</td>\n",
              "      <td>0</td>\n",
              "      <td>0</td>\n",
              "      <td>0</td>\n",
              "      <td>0</td>\n",
              "      <td>0</td>\n",
              "      <td>0</td>\n",
              "      <td>0</td>\n",
              "      <td>0</td>\n",
              "      <td>0</td>\n",
              "      <td>1</td>\n",
              "      <td>0</td>\n",
              "      <td>0</td>\n",
              "      <td>0</td>\n",
              "    </tr>\n",
              "    <tr>\n",
              "      <th>1</th>\n",
              "      <td>29.84</td>\n",
              "      <td>84002</td>\n",
              "      <td>12</td>\n",
              "      <td>0</td>\n",
              "      <td>0</td>\n",
              "      <td>0</td>\n",
              "      <td>0</td>\n",
              "      <td>0</td>\n",
              "      <td>0</td>\n",
              "      <td>0</td>\n",
              "      <td>0</td>\n",
              "      <td>0</td>\n",
              "      <td>0</td>\n",
              "      <td>1</td>\n",
              "      <td>0</td>\n",
              "      <td>0</td>\n",
              "      <td>0</td>\n",
              "    </tr>\n",
              "    <tr>\n",
              "      <th>2</th>\n",
              "      <td>41.28</td>\n",
              "      <td>11710</td>\n",
              "      <td>12</td>\n",
              "      <td>0</td>\n",
              "      <td>0</td>\n",
              "      <td>0</td>\n",
              "      <td>0</td>\n",
              "      <td>0</td>\n",
              "      <td>1</td>\n",
              "      <td>0</td>\n",
              "      <td>0</td>\n",
              "      <td>0</td>\n",
              "      <td>0</td>\n",
              "      <td>0</td>\n",
              "      <td>0</td>\n",
              "      <td>0</td>\n",
              "      <td>0</td>\n",
              "    </tr>\n",
              "    <tr>\n",
              "      <th>3</th>\n",
              "      <td>60.05</td>\n",
              "      <td>32780</td>\n",
              "      <td>12</td>\n",
              "      <td>0</td>\n",
              "      <td>0</td>\n",
              "      <td>0</td>\n",
              "      <td>0</td>\n",
              "      <td>0</td>\n",
              "      <td>0</td>\n",
              "      <td>0</td>\n",
              "      <td>0</td>\n",
              "      <td>0</td>\n",
              "      <td>1</td>\n",
              "      <td>0</td>\n",
              "      <td>0</td>\n",
              "      <td>0</td>\n",
              "      <td>0</td>\n",
              "    </tr>\n",
              "    <tr>\n",
              "      <th>4</th>\n",
              "      <td>3.19</td>\n",
              "      <td>49632</td>\n",
              "      <td>12</td>\n",
              "      <td>0</td>\n",
              "      <td>0</td>\n",
              "      <td>0</td>\n",
              "      <td>0</td>\n",
              "      <td>0</td>\n",
              "      <td>0</td>\n",
              "      <td>0</td>\n",
              "      <td>0</td>\n",
              "      <td>0</td>\n",
              "      <td>0</td>\n",
              "      <td>0</td>\n",
              "      <td>0</td>\n",
              "      <td>0</td>\n",
              "      <td>1</td>\n",
              "    </tr>\n",
              "  </tbody>\n",
              "</table>\n",
              "</div>\n",
              "      <button class=\"colab-df-convert\" onclick=\"convertToInteractive('df-facfa410-9faf-4734-9d05-08e23d2361f2')\"\n",
              "              title=\"Convert this dataframe to an interactive table.\"\n",
              "              style=\"display:none;\">\n",
              "        \n",
              "  <svg xmlns=\"http://www.w3.org/2000/svg\" height=\"24px\"viewBox=\"0 0 24 24\"\n",
              "       width=\"24px\">\n",
              "    <path d=\"M0 0h24v24H0V0z\" fill=\"none\"/>\n",
              "    <path d=\"M18.56 5.44l.94 2.06.94-2.06 2.06-.94-2.06-.94-.94-2.06-.94 2.06-2.06.94zm-11 1L8.5 8.5l.94-2.06 2.06-.94-2.06-.94L8.5 2.5l-.94 2.06-2.06.94zm10 10l.94 2.06.94-2.06 2.06-.94-2.06-.94-.94-2.06-.94 2.06-2.06.94z\"/><path d=\"M17.41 7.96l-1.37-1.37c-.4-.4-.92-.59-1.43-.59-.52 0-1.04.2-1.43.59L10.3 9.45l-7.72 7.72c-.78.78-.78 2.05 0 2.83L4 21.41c.39.39.9.59 1.41.59.51 0 1.02-.2 1.41-.59l7.78-7.78 2.81-2.81c.8-.78.8-2.07 0-2.86zM5.41 20L4 18.59l7.72-7.72 1.47 1.35L5.41 20z\"/>\n",
              "  </svg>\n",
              "      </button>\n",
              "      \n",
              "  <style>\n",
              "    .colab-df-container {\n",
              "      display:flex;\n",
              "      flex-wrap:wrap;\n",
              "      gap: 12px;\n",
              "    }\n",
              "\n",
              "    .colab-df-convert {\n",
              "      background-color: #E8F0FE;\n",
              "      border: none;\n",
              "      border-radius: 50%;\n",
              "      cursor: pointer;\n",
              "      display: none;\n",
              "      fill: #1967D2;\n",
              "      height: 32px;\n",
              "      padding: 0 0 0 0;\n",
              "      width: 32px;\n",
              "    }\n",
              "\n",
              "    .colab-df-convert:hover {\n",
              "      background-color: #E2EBFA;\n",
              "      box-shadow: 0px 1px 2px rgba(60, 64, 67, 0.3), 0px 1px 3px 1px rgba(60, 64, 67, 0.15);\n",
              "      fill: #174EA6;\n",
              "    }\n",
              "\n",
              "    [theme=dark] .colab-df-convert {\n",
              "      background-color: #3B4455;\n",
              "      fill: #D2E3FC;\n",
              "    }\n",
              "\n",
              "    [theme=dark] .colab-df-convert:hover {\n",
              "      background-color: #434B5C;\n",
              "      box-shadow: 0px 1px 3px 1px rgba(0, 0, 0, 0.15);\n",
              "      filter: drop-shadow(0px 1px 2px rgba(0, 0, 0, 0.3));\n",
              "      fill: #FFFFFF;\n",
              "    }\n",
              "  </style>\n",
              "\n",
              "      <script>\n",
              "        const buttonEl =\n",
              "          document.querySelector('#df-facfa410-9faf-4734-9d05-08e23d2361f2 button.colab-df-convert');\n",
              "        buttonEl.style.display =\n",
              "          google.colab.kernel.accessAllowed ? 'block' : 'none';\n",
              "\n",
              "        async function convertToInteractive(key) {\n",
              "          const element = document.querySelector('#df-facfa410-9faf-4734-9d05-08e23d2361f2');\n",
              "          const dataTable =\n",
              "            await google.colab.kernel.invokeFunction('convertToInteractive',\n",
              "                                                     [key], {});\n",
              "          if (!dataTable) return;\n",
              "\n",
              "          const docLinkHtml = 'Like what you see? Visit the ' +\n",
              "            '<a target=\"_blank\" href=https://colab.research.google.com/notebooks/data_table.ipynb>data table notebook</a>'\n",
              "            + ' to learn more about interactive tables.';\n",
              "          element.innerHTML = '';\n",
              "          dataTable['output_type'] = 'display_data';\n",
              "          await google.colab.output.renderOutput(dataTable, element);\n",
              "          const docLink = document.createElement('div');\n",
              "          docLink.innerHTML = docLinkHtml;\n",
              "          element.appendChild(docLink);\n",
              "        }\n",
              "      </script>\n",
              "    </div>\n",
              "  </div>\n",
              "  "
            ]
          },
          "metadata": {},
          "execution_count": 12
        }
      ]
    },
    {
      "cell_type": "code",
      "source": [],
      "metadata": {
        "id": "D7n_cImg99F3"
      },
      "execution_count": 12,
      "outputs": []
    },
    {
      "cell_type": "markdown",
      "source": [
        "# 4.) Split the Data.\n"
      ],
      "metadata": {
        "id": "bIJx2jvD-KEI"
      }
    },
    {
      "cell_type": "code",
      "source": [
        "cut=int((len(x)*0.8)//1)"
      ],
      "metadata": {
        "id": "yiK_fTvjbmIi"
      },
      "execution_count": 13,
      "outputs": []
    },
    {
      "cell_type": "code",
      "source": [
        "x_train=x[:cut]\n",
        "x_test=x[cut:]\n",
        "\n",
        "y_train=y[:cut]\n",
        "y_test=y[cut:]"
      ],
      "metadata": {
        "id": "gjAKFR8Xbn9x"
      },
      "execution_count": 14,
      "outputs": []
    },
    {
      "cell_type": "markdown",
      "source": [
        "# 5.) Train a Logistic regression."
      ],
      "metadata": {
        "id": "PeurmqI4-OoC"
      }
    },
    {
      "cell_type": "code",
      "source": [
        "from sklearn.linear_model import LogisticRegression"
      ],
      "metadata": {
        "id": "zwq8KTmsXhFY"
      },
      "execution_count": 15,
      "outputs": []
    },
    {
      "cell_type": "code",
      "source": [
        "log_reg = LogisticRegression()"
      ],
      "metadata": {
        "id": "DjgQ8BQM99WR"
      },
      "execution_count": 16,
      "outputs": []
    },
    {
      "cell_type": "code",
      "source": [
        "log_reg.fit(x_train, y_train)"
      ],
      "metadata": {
        "colab": {
          "base_uri": "https://localhost:8080/"
        },
        "id": "BPQlUbSQjGkP",
        "outputId": "27feada5-4e04-4536-b3a3-8d21bb9488cc"
      },
      "execution_count": 17,
      "outputs": [
        {
          "output_type": "execute_result",
          "data": {
            "text/plain": [
              "LogisticRegression()"
            ]
          },
          "metadata": {},
          "execution_count": 17
        }
      ]
    },
    {
      "cell_type": "markdown",
      "source": [
        "# 6.) The company you are working for wants to target at a False Positive rate of 5% what threshold should you use? (Use oversampled data)"
      ],
      "metadata": {
        "id": "6isBwtmL-R4p"
      }
    },
    {
      "cell_type": "code",
      "source": [
        "from sklearn.metrics import confusion_matrix\n",
        "from sklearn.metrics import roc_curve\n",
        "\n",
        "# predict the probabilities of the positive class for the test data\n",
        "y_probas = log_reg.predict_proba(x_test)[:, 1]\n",
        "\n",
        "# calculate the false positive rate and true positive rate\n",
        "fpr, tpr, thresholds = roc_curve(y_test, y_probas)\n",
        "\n",
        "# find the threshold that corresponds to a false positive rate of 5%\n",
        "threshold = thresholds[np.argmin(np.abs(fpr - 0.05))]\n",
        "\n",
        "# use this threshold to make predictions on the test data\n",
        "y_pred = (y_probas > threshold).astype(int)\n",
        "\n",
        "# create the confusion matrix\n",
        "conf_matrix = confusion_matrix(y_test, y_pred)\n",
        "\n",
        "# print the confusion matrix\n",
        "print(conf_matrix)"
      ],
      "metadata": {
        "id": "POIuy3rH-RQv",
        "colab": {
          "base_uri": "https://localhost:8080/"
        },
        "outputId": "50e6865a-000e-473d-d129-b624ca49b810"
      },
      "execution_count": 18,
      "outputs": [
        {
          "output_type": "stream",
          "name": "stdout",
          "text": [
            "[[105362   5598]\n",
            " [    89     95]]\n"
          ]
        }
      ]
    },
    {
      "cell_type": "code",
      "source": [
        "print('We should use threshold of',threshold)"
      ],
      "metadata": {
        "id": "g14fgEkT-RTV",
        "colab": {
          "base_uri": "https://localhost:8080/"
        },
        "outputId": "b50b4099-acdd-48fa-fbd8-00f9fffdd286"
      },
      "execution_count": 19,
      "outputs": [
        {
          "output_type": "stream",
          "name": "stdout",
          "text": [
            "We should use threshold of 0.006374052088064181\n"
          ]
        }
      ]
    },
    {
      "cell_type": "markdown",
      "source": [
        "# 7.) If the company makes .02*amt on True transactions and loses -amt on False (Use original data)"
      ],
      "metadata": {
        "id": "aQa3sanl-XUk"
      }
    },
    {
      "cell_type": "code",
      "source": [
        "df_temp = df_select.copy()"
      ],
      "metadata": {
        "id": "vVaHpqf9wHj7"
      },
      "execution_count": 20,
      "outputs": []
    },
    {
      "cell_type": "code",
      "source": [
        "df_temp[\"pred\"] = log_reg.predict(x)\n",
        "df_temp"
      ],
      "metadata": {
        "id": "YphNDj12aFhP",
        "colab": {
          "base_uri": "https://localhost:8080/",
          "height": 423
        },
        "outputId": "fa42c5cc-2be3-4f95-e47e-e37e3688171d"
      },
      "execution_count": 21,
      "outputs": [
        {
          "output_type": "execute_result",
          "data": {
            "text/plain": [
              "       trans_date_trans_time        category     amt    zip  is_fraud  \\\n",
              "0        2020-06-21 12:14:25   personal_care    2.86  29209         0   \n",
              "1        2020-06-21 12:14:33   personal_care   29.84  84002         0   \n",
              "2        2020-06-21 12:14:53  health_fitness   41.28  11710         0   \n",
              "3        2020-06-21 12:15:15        misc_pos   60.05  32780         0   \n",
              "4        2020-06-21 12:15:17          travel    3.19  49632         0   \n",
              "...                      ...             ...     ...    ...       ...   \n",
              "555714   2020-12-31 23:59:07  health_fitness   43.77  63453         0   \n",
              "555715   2020-12-31 23:59:09       kids_pets  111.84  77566         0   \n",
              "555716   2020-12-31 23:59:15       kids_pets   86.88  99323         0   \n",
              "555717   2020-12-31 23:59:24          travel    7.99  83643         0   \n",
              "555718   2020-12-31 23:59:34   entertainment   38.13  73034         0   \n",
              "\n",
              "        time_var  pred  \n",
              "0             12     0  \n",
              "1             12     0  \n",
              "2             12     0  \n",
              "3             12     0  \n",
              "4             12     0  \n",
              "...          ...   ...  \n",
              "555714        23     0  \n",
              "555715        23     0  \n",
              "555716        23     0  \n",
              "555717        23     0  \n",
              "555718        23     0  \n",
              "\n",
              "[555719 rows x 7 columns]"
            ],
            "text/html": [
              "\n",
              "  <div id=\"df-3d827d99-860a-4bfc-89ed-b103c6d7ca64\">\n",
              "    <div class=\"colab-df-container\">\n",
              "      <div>\n",
              "<style scoped>\n",
              "    .dataframe tbody tr th:only-of-type {\n",
              "        vertical-align: middle;\n",
              "    }\n",
              "\n",
              "    .dataframe tbody tr th {\n",
              "        vertical-align: top;\n",
              "    }\n",
              "\n",
              "    .dataframe thead th {\n",
              "        text-align: right;\n",
              "    }\n",
              "</style>\n",
              "<table border=\"1\" class=\"dataframe\">\n",
              "  <thead>\n",
              "    <tr style=\"text-align: right;\">\n",
              "      <th></th>\n",
              "      <th>trans_date_trans_time</th>\n",
              "      <th>category</th>\n",
              "      <th>amt</th>\n",
              "      <th>zip</th>\n",
              "      <th>is_fraud</th>\n",
              "      <th>time_var</th>\n",
              "      <th>pred</th>\n",
              "    </tr>\n",
              "  </thead>\n",
              "  <tbody>\n",
              "    <tr>\n",
              "      <th>0</th>\n",
              "      <td>2020-06-21 12:14:25</td>\n",
              "      <td>personal_care</td>\n",
              "      <td>2.86</td>\n",
              "      <td>29209</td>\n",
              "      <td>0</td>\n",
              "      <td>12</td>\n",
              "      <td>0</td>\n",
              "    </tr>\n",
              "    <tr>\n",
              "      <th>1</th>\n",
              "      <td>2020-06-21 12:14:33</td>\n",
              "      <td>personal_care</td>\n",
              "      <td>29.84</td>\n",
              "      <td>84002</td>\n",
              "      <td>0</td>\n",
              "      <td>12</td>\n",
              "      <td>0</td>\n",
              "    </tr>\n",
              "    <tr>\n",
              "      <th>2</th>\n",
              "      <td>2020-06-21 12:14:53</td>\n",
              "      <td>health_fitness</td>\n",
              "      <td>41.28</td>\n",
              "      <td>11710</td>\n",
              "      <td>0</td>\n",
              "      <td>12</td>\n",
              "      <td>0</td>\n",
              "    </tr>\n",
              "    <tr>\n",
              "      <th>3</th>\n",
              "      <td>2020-06-21 12:15:15</td>\n",
              "      <td>misc_pos</td>\n",
              "      <td>60.05</td>\n",
              "      <td>32780</td>\n",
              "      <td>0</td>\n",
              "      <td>12</td>\n",
              "      <td>0</td>\n",
              "    </tr>\n",
              "    <tr>\n",
              "      <th>4</th>\n",
              "      <td>2020-06-21 12:15:17</td>\n",
              "      <td>travel</td>\n",
              "      <td>3.19</td>\n",
              "      <td>49632</td>\n",
              "      <td>0</td>\n",
              "      <td>12</td>\n",
              "      <td>0</td>\n",
              "    </tr>\n",
              "    <tr>\n",
              "      <th>...</th>\n",
              "      <td>...</td>\n",
              "      <td>...</td>\n",
              "      <td>...</td>\n",
              "      <td>...</td>\n",
              "      <td>...</td>\n",
              "      <td>...</td>\n",
              "      <td>...</td>\n",
              "    </tr>\n",
              "    <tr>\n",
              "      <th>555714</th>\n",
              "      <td>2020-12-31 23:59:07</td>\n",
              "      <td>health_fitness</td>\n",
              "      <td>43.77</td>\n",
              "      <td>63453</td>\n",
              "      <td>0</td>\n",
              "      <td>23</td>\n",
              "      <td>0</td>\n",
              "    </tr>\n",
              "    <tr>\n",
              "      <th>555715</th>\n",
              "      <td>2020-12-31 23:59:09</td>\n",
              "      <td>kids_pets</td>\n",
              "      <td>111.84</td>\n",
              "      <td>77566</td>\n",
              "      <td>0</td>\n",
              "      <td>23</td>\n",
              "      <td>0</td>\n",
              "    </tr>\n",
              "    <tr>\n",
              "      <th>555716</th>\n",
              "      <td>2020-12-31 23:59:15</td>\n",
              "      <td>kids_pets</td>\n",
              "      <td>86.88</td>\n",
              "      <td>99323</td>\n",
              "      <td>0</td>\n",
              "      <td>23</td>\n",
              "      <td>0</td>\n",
              "    </tr>\n",
              "    <tr>\n",
              "      <th>555717</th>\n",
              "      <td>2020-12-31 23:59:24</td>\n",
              "      <td>travel</td>\n",
              "      <td>7.99</td>\n",
              "      <td>83643</td>\n",
              "      <td>0</td>\n",
              "      <td>23</td>\n",
              "      <td>0</td>\n",
              "    </tr>\n",
              "    <tr>\n",
              "      <th>555718</th>\n",
              "      <td>2020-12-31 23:59:34</td>\n",
              "      <td>entertainment</td>\n",
              "      <td>38.13</td>\n",
              "      <td>73034</td>\n",
              "      <td>0</td>\n",
              "      <td>23</td>\n",
              "      <td>0</td>\n",
              "    </tr>\n",
              "  </tbody>\n",
              "</table>\n",
              "<p>555719 rows × 7 columns</p>\n",
              "</div>\n",
              "      <button class=\"colab-df-convert\" onclick=\"convertToInteractive('df-3d827d99-860a-4bfc-89ed-b103c6d7ca64')\"\n",
              "              title=\"Convert this dataframe to an interactive table.\"\n",
              "              style=\"display:none;\">\n",
              "        \n",
              "  <svg xmlns=\"http://www.w3.org/2000/svg\" height=\"24px\"viewBox=\"0 0 24 24\"\n",
              "       width=\"24px\">\n",
              "    <path d=\"M0 0h24v24H0V0z\" fill=\"none\"/>\n",
              "    <path d=\"M18.56 5.44l.94 2.06.94-2.06 2.06-.94-2.06-.94-.94-2.06-.94 2.06-2.06.94zm-11 1L8.5 8.5l.94-2.06 2.06-.94-2.06-.94L8.5 2.5l-.94 2.06-2.06.94zm10 10l.94 2.06.94-2.06 2.06-.94-2.06-.94-.94-2.06-.94 2.06-2.06.94z\"/><path d=\"M17.41 7.96l-1.37-1.37c-.4-.4-.92-.59-1.43-.59-.52 0-1.04.2-1.43.59L10.3 9.45l-7.72 7.72c-.78.78-.78 2.05 0 2.83L4 21.41c.39.39.9.59 1.41.59.51 0 1.02-.2 1.41-.59l7.78-7.78 2.81-2.81c.8-.78.8-2.07 0-2.86zM5.41 20L4 18.59l7.72-7.72 1.47 1.35L5.41 20z\"/>\n",
              "  </svg>\n",
              "      </button>\n",
              "      \n",
              "  <style>\n",
              "    .colab-df-container {\n",
              "      display:flex;\n",
              "      flex-wrap:wrap;\n",
              "      gap: 12px;\n",
              "    }\n",
              "\n",
              "    .colab-df-convert {\n",
              "      background-color: #E8F0FE;\n",
              "      border: none;\n",
              "      border-radius: 50%;\n",
              "      cursor: pointer;\n",
              "      display: none;\n",
              "      fill: #1967D2;\n",
              "      height: 32px;\n",
              "      padding: 0 0 0 0;\n",
              "      width: 32px;\n",
              "    }\n",
              "\n",
              "    .colab-df-convert:hover {\n",
              "      background-color: #E2EBFA;\n",
              "      box-shadow: 0px 1px 2px rgba(60, 64, 67, 0.3), 0px 1px 3px 1px rgba(60, 64, 67, 0.15);\n",
              "      fill: #174EA6;\n",
              "    }\n",
              "\n",
              "    [theme=dark] .colab-df-convert {\n",
              "      background-color: #3B4455;\n",
              "      fill: #D2E3FC;\n",
              "    }\n",
              "\n",
              "    [theme=dark] .colab-df-convert:hover {\n",
              "      background-color: #434B5C;\n",
              "      box-shadow: 0px 1px 3px 1px rgba(0, 0, 0, 0.15);\n",
              "      filter: drop-shadow(0px 1px 2px rgba(0, 0, 0, 0.3));\n",
              "      fill: #FFFFFF;\n",
              "    }\n",
              "  </style>\n",
              "\n",
              "      <script>\n",
              "        const buttonEl =\n",
              "          document.querySelector('#df-3d827d99-860a-4bfc-89ed-b103c6d7ca64 button.colab-df-convert');\n",
              "        buttonEl.style.display =\n",
              "          google.colab.kernel.accessAllowed ? 'block' : 'none';\n",
              "\n",
              "        async function convertToInteractive(key) {\n",
              "          const element = document.querySelector('#df-3d827d99-860a-4bfc-89ed-b103c6d7ca64');\n",
              "          const dataTable =\n",
              "            await google.colab.kernel.invokeFunction('convertToInteractive',\n",
              "                                                     [key], {});\n",
              "          if (!dataTable) return;\n",
              "\n",
              "          const docLinkHtml = 'Like what you see? Visit the ' +\n",
              "            '<a target=\"_blank\" href=https://colab.research.google.com/notebooks/data_table.ipynb>data table notebook</a>'\n",
              "            + ' to learn more about interactive tables.';\n",
              "          element.innerHTML = '';\n",
              "          dataTable['output_type'] = 'display_data';\n",
              "          await google.colab.output.renderOutput(dataTable, element);\n",
              "          const docLink = document.createElement('div');\n",
              "          docLink.innerHTML = docLinkHtml;\n",
              "          element.appendChild(docLink);\n",
              "        }\n",
              "      </script>\n",
              "    </div>\n",
              "  </div>\n",
              "  "
            ]
          },
          "metadata": {},
          "execution_count": 21
        }
      ]
    },
    {
      "cell_type": "code",
      "source": [
        "df_temp = df_temp[[\"pred\", \"is_fraud\", \"amt\"]]"
      ],
      "metadata": {
        "id": "G-MUv66T-RZE"
      },
      "execution_count": 22,
      "outputs": []
    },
    {
      "cell_type": "code",
      "source": [
        "df_temp.head()"
      ],
      "metadata": {
        "colab": {
          "base_uri": "https://localhost:8080/",
          "height": 206
        },
        "id": "eDtDVSAr-RcM",
        "outputId": "9af53a8d-bdc0-4dec-881b-dca818b009ea"
      },
      "execution_count": 23,
      "outputs": [
        {
          "output_type": "execute_result",
          "data": {
            "text/plain": [
              "   pred  is_fraud    amt\n",
              "0     0         0   2.86\n",
              "1     0         0  29.84\n",
              "2     0         0  41.28\n",
              "3     0         0  60.05\n",
              "4     0         0   3.19"
            ],
            "text/html": [
              "\n",
              "  <div id=\"df-f9a56fcf-d28d-4c27-9361-fbfb178576c7\">\n",
              "    <div class=\"colab-df-container\">\n",
              "      <div>\n",
              "<style scoped>\n",
              "    .dataframe tbody tr th:only-of-type {\n",
              "        vertical-align: middle;\n",
              "    }\n",
              "\n",
              "    .dataframe tbody tr th {\n",
              "        vertical-align: top;\n",
              "    }\n",
              "\n",
              "    .dataframe thead th {\n",
              "        text-align: right;\n",
              "    }\n",
              "</style>\n",
              "<table border=\"1\" class=\"dataframe\">\n",
              "  <thead>\n",
              "    <tr style=\"text-align: right;\">\n",
              "      <th></th>\n",
              "      <th>pred</th>\n",
              "      <th>is_fraud</th>\n",
              "      <th>amt</th>\n",
              "    </tr>\n",
              "  </thead>\n",
              "  <tbody>\n",
              "    <tr>\n",
              "      <th>0</th>\n",
              "      <td>0</td>\n",
              "      <td>0</td>\n",
              "      <td>2.86</td>\n",
              "    </tr>\n",
              "    <tr>\n",
              "      <th>1</th>\n",
              "      <td>0</td>\n",
              "      <td>0</td>\n",
              "      <td>29.84</td>\n",
              "    </tr>\n",
              "    <tr>\n",
              "      <th>2</th>\n",
              "      <td>0</td>\n",
              "      <td>0</td>\n",
              "      <td>41.28</td>\n",
              "    </tr>\n",
              "    <tr>\n",
              "      <th>3</th>\n",
              "      <td>0</td>\n",
              "      <td>0</td>\n",
              "      <td>60.05</td>\n",
              "    </tr>\n",
              "    <tr>\n",
              "      <th>4</th>\n",
              "      <td>0</td>\n",
              "      <td>0</td>\n",
              "      <td>3.19</td>\n",
              "    </tr>\n",
              "  </tbody>\n",
              "</table>\n",
              "</div>\n",
              "      <button class=\"colab-df-convert\" onclick=\"convertToInteractive('df-f9a56fcf-d28d-4c27-9361-fbfb178576c7')\"\n",
              "              title=\"Convert this dataframe to an interactive table.\"\n",
              "              style=\"display:none;\">\n",
              "        \n",
              "  <svg xmlns=\"http://www.w3.org/2000/svg\" height=\"24px\"viewBox=\"0 0 24 24\"\n",
              "       width=\"24px\">\n",
              "    <path d=\"M0 0h24v24H0V0z\" fill=\"none\"/>\n",
              "    <path d=\"M18.56 5.44l.94 2.06.94-2.06 2.06-.94-2.06-.94-.94-2.06-.94 2.06-2.06.94zm-11 1L8.5 8.5l.94-2.06 2.06-.94-2.06-.94L8.5 2.5l-.94 2.06-2.06.94zm10 10l.94 2.06.94-2.06 2.06-.94-2.06-.94-.94-2.06-.94 2.06-2.06.94z\"/><path d=\"M17.41 7.96l-1.37-1.37c-.4-.4-.92-.59-1.43-.59-.52 0-1.04.2-1.43.59L10.3 9.45l-7.72 7.72c-.78.78-.78 2.05 0 2.83L4 21.41c.39.39.9.59 1.41.59.51 0 1.02-.2 1.41-.59l7.78-7.78 2.81-2.81c.8-.78.8-2.07 0-2.86zM5.41 20L4 18.59l7.72-7.72 1.47 1.35L5.41 20z\"/>\n",
              "  </svg>\n",
              "      </button>\n",
              "      \n",
              "  <style>\n",
              "    .colab-df-container {\n",
              "      display:flex;\n",
              "      flex-wrap:wrap;\n",
              "      gap: 12px;\n",
              "    }\n",
              "\n",
              "    .colab-df-convert {\n",
              "      background-color: #E8F0FE;\n",
              "      border: none;\n",
              "      border-radius: 50%;\n",
              "      cursor: pointer;\n",
              "      display: none;\n",
              "      fill: #1967D2;\n",
              "      height: 32px;\n",
              "      padding: 0 0 0 0;\n",
              "      width: 32px;\n",
              "    }\n",
              "\n",
              "    .colab-df-convert:hover {\n",
              "      background-color: #E2EBFA;\n",
              "      box-shadow: 0px 1px 2px rgba(60, 64, 67, 0.3), 0px 1px 3px 1px rgba(60, 64, 67, 0.15);\n",
              "      fill: #174EA6;\n",
              "    }\n",
              "\n",
              "    [theme=dark] .colab-df-convert {\n",
              "      background-color: #3B4455;\n",
              "      fill: #D2E3FC;\n",
              "    }\n",
              "\n",
              "    [theme=dark] .colab-df-convert:hover {\n",
              "      background-color: #434B5C;\n",
              "      box-shadow: 0px 1px 3px 1px rgba(0, 0, 0, 0.15);\n",
              "      filter: drop-shadow(0px 1px 2px rgba(0, 0, 0, 0.3));\n",
              "      fill: #FFFFFF;\n",
              "    }\n",
              "  </style>\n",
              "\n",
              "      <script>\n",
              "        const buttonEl =\n",
              "          document.querySelector('#df-f9a56fcf-d28d-4c27-9361-fbfb178576c7 button.colab-df-convert');\n",
              "        buttonEl.style.display =\n",
              "          google.colab.kernel.accessAllowed ? 'block' : 'none';\n",
              "\n",
              "        async function convertToInteractive(key) {\n",
              "          const element = document.querySelector('#df-f9a56fcf-d28d-4c27-9361-fbfb178576c7');\n",
              "          const dataTable =\n",
              "            await google.colab.kernel.invokeFunction('convertToInteractive',\n",
              "                                                     [key], {});\n",
              "          if (!dataTable) return;\n",
              "\n",
              "          const docLinkHtml = 'Like what you see? Visit the ' +\n",
              "            '<a target=\"_blank\" href=https://colab.research.google.com/notebooks/data_table.ipynb>data table notebook</a>'\n",
              "            + ' to learn more about interactive tables.';\n",
              "          element.innerHTML = '';\n",
              "          dataTable['output_type'] = 'display_data';\n",
              "          await google.colab.output.renderOutput(dataTable, element);\n",
              "          const docLink = document.createElement('div');\n",
              "          docLink.innerHTML = docLinkHtml;\n",
              "          element.appendChild(docLink);\n",
              "        }\n",
              "      </script>\n",
              "    </div>\n",
              "  </div>\n",
              "  "
            ]
          },
          "metadata": {},
          "execution_count": 23
        }
      ]
    },
    {
      "cell_type": "code",
      "source": [
        "def profit(df_temp):\n",
        "  profit=0\n",
        "  for i in range(len(df_temp)):\n",
        "    if df_temp['pred'][i]==1 and df_temp['is_fraud'][i]==1:\n",
        "      profit=profit+0.02*df_temp['amt'][i]\n",
        "    elif df_temp['pred'][i]==0 and df_temp['is_fraud'][i]==1:\n",
        "      profit=profit-df_temp['amt'][i]\n",
        "    else:\n",
        "      profit=profit\n",
        "  return profit"
      ],
      "metadata": {
        "id": "XlDdUbdpl59N"
      },
      "execution_count": 24,
      "outputs": []
    },
    {
      "cell_type": "code",
      "source": [
        "print('The expected profit of the company is',profit(df_temp))"
      ],
      "metadata": {
        "colab": {
          "base_uri": "https://localhost:8080/"
        },
        "id": "OvCu8HUimutg",
        "outputId": "92984e1d-d953-42b5-9481-776ea7470cef"
      },
      "execution_count": 25,
      "outputs": [
        {
          "output_type": "stream",
          "name": "stdout",
          "text": [
            "The expected profit of the company is -1133324.6800000002\n"
          ]
        }
      ]
    },
    {
      "cell_type": "markdown",
      "source": [
        "# 8.) Using Logistic Regression Lasso to inform you. Would you use the selected features in a trusted prediction model?"
      ],
      "metadata": {
        "id": "qrlSpvEh-awn"
      }
    },
    {
      "cell_type": "code",
      "source": [
        "# If most or all your variables go to 0 => Your data is garbage\n",
        "# The regularization will tell us if our model has significance\n",
        "# This of using coefficient strength similar to r^2"
      ],
      "metadata": {
        "id": "A5Q1iOHl-djx"
      },
      "execution_count": 26,
      "outputs": []
    },
    {
      "cell_type": "code",
      "source": [
        "log_reg1=LogisticRegression(penalty='l1', solver='liblinear')"
      ],
      "metadata": {
        "id": "2a1u33ge-dqA"
      },
      "execution_count": 27,
      "outputs": []
    },
    {
      "cell_type": "code",
      "source": [
        "log_reg1fit=log_reg1.fit(x_train,y_train)"
      ],
      "metadata": {
        "id": "EhSxRtPM8svd"
      },
      "execution_count": 28,
      "outputs": []
    },
    {
      "cell_type": "code",
      "source": [
        "log_reg1fit.coef_"
      ],
      "metadata": {
        "colab": {
          "base_uri": "https://localhost:8080/"
        },
        "id": "4BTpIP-p8zq5",
        "outputId": "7de3befd-b159-494c-f687-3a5c296f1f53"
      },
      "execution_count": 29,
      "outputs": [
        {
          "output_type": "execute_result",
          "data": {
            "text/plain": [
              "array([[ 2.25077780e-03, -1.85869886e-06,  1.21450749e-01,\n",
              "        -2.66420664e+00, -2.80172521e+00, -7.97688956e-01,\n",
              "        -9.36276417e-01,  2.50913421e-01, -2.86868171e+00,\n",
              "        -3.09473306e+00, -2.93285111e+00, -1.97656214e-01,\n",
              "        -1.99755618e+00, -2.58899197e+00, -7.65729648e-01,\n",
              "        -2.00593712e+00, -6.71436856e+00]])"
            ]
          },
          "metadata": {},
          "execution_count": 29
        }
      ]
    },
    {
      "cell_type": "markdown",
      "source": [
        "### Since not most of the coefficients are equal to 0, I will use the selected features in a trusted prediction model."
      ],
      "metadata": {
        "id": "lSxUdG6xCoV4"
      }
    }
  ]
}
