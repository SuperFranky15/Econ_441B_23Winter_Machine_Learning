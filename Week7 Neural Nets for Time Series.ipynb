{
  "nbformat": 4,
  "nbformat_minor": 0,
  "metadata": {
    "colab": {
      "provenance": []
    },
    "kernelspec": {
      "name": "python3",
      "display_name": "Python 3"
    },
    "language_info": {
      "name": "python"
    }
  },
  "cells": [
    {
      "cell_type": "markdown",
      "source": [
        "# **Econ 441B 23Winter Lec7**\n",
        "## **Juntao Li 906092273**\n"
      ],
      "metadata": {
        "id": "TA7pcwi0M0hd"
      }
    },
    {
      "cell_type": "markdown",
      "source": [
        "# 1.) Import an asset price from Yahoo Finance"
      ],
      "metadata": {
        "id": "6dJuZDx9qWeM"
      }
    },
    {
      "cell_type": "code",
      "source": [
        "pip install yfinance"
      ],
      "metadata": {
        "colab": {
          "base_uri": "https://localhost:8080/"
        },
        "id": "QxUUnTVTrx3m",
        "outputId": "1d993e24-4b5b-4245-9dbc-5ab4ce615054"
      },
      "execution_count": 2,
      "outputs": [
        {
          "output_type": "stream",
          "name": "stdout",
          "text": [
            "Looking in indexes: https://pypi.org/simple, https://us-python.pkg.dev/colab-wheels/public/simple/\n",
            "Collecting yfinance\n",
            "  Downloading yfinance-0.2.12-py2.py3-none-any.whl (59 kB)\n",
            "\u001b[2K     \u001b[90m━━━━━━━━━━━━━━━━━━━━━━━━━━━━━━━━━━━━━━━━\u001b[0m \u001b[32m59.2/59.2 KB\u001b[0m \u001b[31m3.5 MB/s\u001b[0m eta \u001b[36m0:00:00\u001b[0m\n",
            "\u001b[?25hRequirement already satisfied: lxml>=4.9.1 in /usr/local/lib/python3.8/dist-packages (from yfinance) (4.9.2)\n",
            "Collecting beautifulsoup4>=4.11.1\n",
            "  Downloading beautifulsoup4-4.11.2-py3-none-any.whl (129 kB)\n",
            "\u001b[2K     \u001b[90m━━━━━━━━━━━━━━━━━━━━━━━━━━━━━━━━━━━━━━\u001b[0m \u001b[32m129.4/129.4 KB\u001b[0m \u001b[31m10.0 MB/s\u001b[0m eta \u001b[36m0:00:00\u001b[0m\n",
            "\u001b[?25hCollecting cryptography>=3.3.2\n",
            "  Downloading cryptography-39.0.1-cp36-abi3-manylinux_2_28_x86_64.whl (4.2 MB)\n",
            "\u001b[2K     \u001b[90m━━━━━━━━━━━━━━━━━━━━━━━━━━━━━━━━━━━━━━━━\u001b[0m \u001b[32m4.2/4.2 MB\u001b[0m \u001b[31m78.3 MB/s\u001b[0m eta \u001b[36m0:00:00\u001b[0m\n",
            "\u001b[?25hRequirement already satisfied: appdirs>=1.4.4 in /usr/local/lib/python3.8/dist-packages (from yfinance) (1.4.4)\n",
            "Requirement already satisfied: pytz>=2022.5 in /usr/local/lib/python3.8/dist-packages (from yfinance) (2022.7.1)\n",
            "Collecting requests>=2.26\n",
            "  Downloading requests-2.28.2-py3-none-any.whl (62 kB)\n",
            "\u001b[2K     \u001b[90m━━━━━━━━━━━━━━━━━━━━━━━━━━━━━━━━━━━━━━━━\u001b[0m \u001b[32m62.8/62.8 KB\u001b[0m \u001b[31m7.8 MB/s\u001b[0m eta \u001b[36m0:00:00\u001b[0m\n",
            "\u001b[?25hRequirement already satisfied: multitasking>=0.0.7 in /usr/local/lib/python3.8/dist-packages (from yfinance) (0.0.11)\n",
            "Requirement already satisfied: pandas>=1.3.0 in /usr/local/lib/python3.8/dist-packages (from yfinance) (1.3.5)\n",
            "Requirement already satisfied: numpy>=1.16.5 in /usr/local/lib/python3.8/dist-packages (from yfinance) (1.22.4)\n",
            "Collecting html5lib>=1.1\n",
            "  Downloading html5lib-1.1-py2.py3-none-any.whl (112 kB)\n",
            "\u001b[2K     \u001b[90m━━━━━━━━━━━━━━━━━━━━━━━━━━━━━━━━━━━━━━\u001b[0m \u001b[32m112.2/112.2 KB\u001b[0m \u001b[31m13.9 MB/s\u001b[0m eta \u001b[36m0:00:00\u001b[0m\n",
            "\u001b[?25hCollecting frozendict>=2.3.4\n",
            "  Downloading frozendict-2.3.5-cp38-cp38-manylinux_2_17_x86_64.manylinux2014_x86_64.whl (111 kB)\n",
            "\u001b[2K     \u001b[90m━━━━━━━━━━━━━━━━━━━━━━━━━━━━━━━━━━━━━━\u001b[0m \u001b[32m111.2/111.2 KB\u001b[0m \u001b[31m14.0 MB/s\u001b[0m eta \u001b[36m0:00:00\u001b[0m\n",
            "\u001b[?25hCollecting soupsieve>1.2\n",
            "  Downloading soupsieve-2.4-py3-none-any.whl (37 kB)\n",
            "Requirement already satisfied: cffi>=1.12 in /usr/local/lib/python3.8/dist-packages (from cryptography>=3.3.2->yfinance) (1.15.1)\n",
            "Requirement already satisfied: webencodings in /usr/local/lib/python3.8/dist-packages (from html5lib>=1.1->yfinance) (0.5.1)\n",
            "Requirement already satisfied: six>=1.9 in /usr/local/lib/python3.8/dist-packages (from html5lib>=1.1->yfinance) (1.15.0)\n",
            "Requirement already satisfied: python-dateutil>=2.7.3 in /usr/local/lib/python3.8/dist-packages (from pandas>=1.3.0->yfinance) (2.8.2)\n",
            "Requirement already satisfied: charset-normalizer<4,>=2 in /usr/local/lib/python3.8/dist-packages (from requests>=2.26->yfinance) (3.0.1)\n",
            "Requirement already satisfied: idna<4,>=2.5 in /usr/local/lib/python3.8/dist-packages (from requests>=2.26->yfinance) (2.10)\n",
            "Requirement already satisfied: certifi>=2017.4.17 in /usr/local/lib/python3.8/dist-packages (from requests>=2.26->yfinance) (2022.12.7)\n",
            "Requirement already satisfied: urllib3<1.27,>=1.21.1 in /usr/local/lib/python3.8/dist-packages (from requests>=2.26->yfinance) (1.26.14)\n",
            "Requirement already satisfied: pycparser in /usr/local/lib/python3.8/dist-packages (from cffi>=1.12->cryptography>=3.3.2->yfinance) (2.21)\n",
            "Installing collected packages: soupsieve, requests, html5lib, frozendict, cryptography, beautifulsoup4, yfinance\n",
            "  Attempting uninstall: requests\n",
            "    Found existing installation: requests 2.25.1\n",
            "    Uninstalling requests-2.25.1:\n",
            "      Successfully uninstalled requests-2.25.1\n",
            "  Attempting uninstall: html5lib\n",
            "    Found existing installation: html5lib 1.0.1\n",
            "    Uninstalling html5lib-1.0.1:\n",
            "      Successfully uninstalled html5lib-1.0.1\n",
            "  Attempting uninstall: beautifulsoup4\n",
            "    Found existing installation: beautifulsoup4 4.6.3\n",
            "    Uninstalling beautifulsoup4-4.6.3:\n",
            "      Successfully uninstalled beautifulsoup4-4.6.3\n",
            "Successfully installed beautifulsoup4-4.11.2 cryptography-39.0.1 frozendict-2.3.5 html5lib-1.1 requests-2.28.2 soupsieve-2.4 yfinance-0.2.12\n"
          ]
        }
      ]
    },
    {
      "cell_type": "code",
      "execution_count": 9,
      "metadata": {
        "colab": {
          "base_uri": "https://localhost:8080/"
        },
        "id": "Y3bcwJb4rp93",
        "outputId": "320ce984-563e-410f-9b4d-0032b35abbb8"
      },
      "outputs": [
        {
          "output_type": "stream",
          "name": "stdout",
          "text": [
            "\r[*********************100%***********************]  1 of 1 completed\n"
          ]
        }
      ],
      "source": [
        "import yfinance as yf\n",
        "import numpy as np\n",
        "import pandas as pd\n",
        "from sklearn.preprocessing import MinMaxScaler\n",
        "from tensorflow.keras.models import Sequential\n",
        "from tensorflow.keras.layers import Dense, LSTM, Dropout\n",
        "\n",
        "\n",
        "########################################\n",
        "####Pick your ticker and time period####\n",
        "########################################\n",
        "stock_data = yf.download(\"NVAX\", start=\"1997-01-01\", end=\"2022-02-21\")\n",
        "\n",
        "\n",
        "\n",
        "# Preprocess data\n",
        "scaled_data = np.array(stock_data[\"Close\"].pct_change().dropna()).reshape(-1,1)\n",
        "\n",
        "\n",
        "# Split data into training and test sets\n",
        "training_data_len = int(len(scaled_data) * 0.8)\n",
        "train_data = scaled_data[0:training_data_len, :]\n",
        "\n"
      ]
    },
    {
      "cell_type": "code",
      "source": [
        "stock_data"
      ],
      "metadata": {
        "colab": {
          "base_uri": "https://localhost:8080/",
          "height": 455
        },
        "id": "oVHjQPCntUnX",
        "outputId": "2ef8d946-6297-49dd-9b53-acf75949dfe9"
      },
      "execution_count": 10,
      "outputs": [
        {
          "output_type": "execute_result",
          "data": {
            "text/plain": [
              "                 Open       High        Low      Close  Adj Close   Volume\n",
              "Date                                                                      \n",
              "1997-01-02  67.500000  68.750000  66.250000  67.500000  67.500000     1030\n",
              "1997-01-03  66.250000  71.250000  66.250000  71.250000  71.250000      600\n",
              "1997-01-06  71.250000  71.250000  67.500000  67.500000  67.500000      450\n",
              "1997-01-07  65.000000  66.250000  62.500000  66.250000  66.250000      905\n",
              "1997-01-08  67.500000  67.500000  65.000000  67.500000  67.500000      830\n",
              "...               ...        ...        ...        ...        ...      ...\n",
              "2022-02-14  86.910004  88.699997  79.989998  80.110001  80.110001  5065500\n",
              "2022-02-15  81.570000  88.879997  80.800003  87.129997  87.129997  4448700\n",
              "2022-02-16  85.580002  86.970001  82.830002  86.550003  86.550003  3069700\n",
              "2022-02-17  85.930000  88.820000  82.620003  83.440002  83.440002  2747000\n",
              "2022-02-18  83.879997  84.940002  78.769997  81.889999  81.889999  2933300\n",
              "\n",
              "[6327 rows x 6 columns]"
            ],
            "text/html": [
              "\n",
              "  <div id=\"df-a9e42190-adec-49eb-9087-f0c8d5bdd3fd\">\n",
              "    <div class=\"colab-df-container\">\n",
              "      <div>\n",
              "<style scoped>\n",
              "    .dataframe tbody tr th:only-of-type {\n",
              "        vertical-align: middle;\n",
              "    }\n",
              "\n",
              "    .dataframe tbody tr th {\n",
              "        vertical-align: top;\n",
              "    }\n",
              "\n",
              "    .dataframe thead th {\n",
              "        text-align: right;\n",
              "    }\n",
              "</style>\n",
              "<table border=\"1\" class=\"dataframe\">\n",
              "  <thead>\n",
              "    <tr style=\"text-align: right;\">\n",
              "      <th></th>\n",
              "      <th>Open</th>\n",
              "      <th>High</th>\n",
              "      <th>Low</th>\n",
              "      <th>Close</th>\n",
              "      <th>Adj Close</th>\n",
              "      <th>Volume</th>\n",
              "    </tr>\n",
              "    <tr>\n",
              "      <th>Date</th>\n",
              "      <th></th>\n",
              "      <th></th>\n",
              "      <th></th>\n",
              "      <th></th>\n",
              "      <th></th>\n",
              "      <th></th>\n",
              "    </tr>\n",
              "  </thead>\n",
              "  <tbody>\n",
              "    <tr>\n",
              "      <th>1997-01-02</th>\n",
              "      <td>67.500000</td>\n",
              "      <td>68.750000</td>\n",
              "      <td>66.250000</td>\n",
              "      <td>67.500000</td>\n",
              "      <td>67.500000</td>\n",
              "      <td>1030</td>\n",
              "    </tr>\n",
              "    <tr>\n",
              "      <th>1997-01-03</th>\n",
              "      <td>66.250000</td>\n",
              "      <td>71.250000</td>\n",
              "      <td>66.250000</td>\n",
              "      <td>71.250000</td>\n",
              "      <td>71.250000</td>\n",
              "      <td>600</td>\n",
              "    </tr>\n",
              "    <tr>\n",
              "      <th>1997-01-06</th>\n",
              "      <td>71.250000</td>\n",
              "      <td>71.250000</td>\n",
              "      <td>67.500000</td>\n",
              "      <td>67.500000</td>\n",
              "      <td>67.500000</td>\n",
              "      <td>450</td>\n",
              "    </tr>\n",
              "    <tr>\n",
              "      <th>1997-01-07</th>\n",
              "      <td>65.000000</td>\n",
              "      <td>66.250000</td>\n",
              "      <td>62.500000</td>\n",
              "      <td>66.250000</td>\n",
              "      <td>66.250000</td>\n",
              "      <td>905</td>\n",
              "    </tr>\n",
              "    <tr>\n",
              "      <th>1997-01-08</th>\n",
              "      <td>67.500000</td>\n",
              "      <td>67.500000</td>\n",
              "      <td>65.000000</td>\n",
              "      <td>67.500000</td>\n",
              "      <td>67.500000</td>\n",
              "      <td>830</td>\n",
              "    </tr>\n",
              "    <tr>\n",
              "      <th>...</th>\n",
              "      <td>...</td>\n",
              "      <td>...</td>\n",
              "      <td>...</td>\n",
              "      <td>...</td>\n",
              "      <td>...</td>\n",
              "      <td>...</td>\n",
              "    </tr>\n",
              "    <tr>\n",
              "      <th>2022-02-14</th>\n",
              "      <td>86.910004</td>\n",
              "      <td>88.699997</td>\n",
              "      <td>79.989998</td>\n",
              "      <td>80.110001</td>\n",
              "      <td>80.110001</td>\n",
              "      <td>5065500</td>\n",
              "    </tr>\n",
              "    <tr>\n",
              "      <th>2022-02-15</th>\n",
              "      <td>81.570000</td>\n",
              "      <td>88.879997</td>\n",
              "      <td>80.800003</td>\n",
              "      <td>87.129997</td>\n",
              "      <td>87.129997</td>\n",
              "      <td>4448700</td>\n",
              "    </tr>\n",
              "    <tr>\n",
              "      <th>2022-02-16</th>\n",
              "      <td>85.580002</td>\n",
              "      <td>86.970001</td>\n",
              "      <td>82.830002</td>\n",
              "      <td>86.550003</td>\n",
              "      <td>86.550003</td>\n",
              "      <td>3069700</td>\n",
              "    </tr>\n",
              "    <tr>\n",
              "      <th>2022-02-17</th>\n",
              "      <td>85.930000</td>\n",
              "      <td>88.820000</td>\n",
              "      <td>82.620003</td>\n",
              "      <td>83.440002</td>\n",
              "      <td>83.440002</td>\n",
              "      <td>2747000</td>\n",
              "    </tr>\n",
              "    <tr>\n",
              "      <th>2022-02-18</th>\n",
              "      <td>83.879997</td>\n",
              "      <td>84.940002</td>\n",
              "      <td>78.769997</td>\n",
              "      <td>81.889999</td>\n",
              "      <td>81.889999</td>\n",
              "      <td>2933300</td>\n",
              "    </tr>\n",
              "  </tbody>\n",
              "</table>\n",
              "<p>6327 rows × 6 columns</p>\n",
              "</div>\n",
              "      <button class=\"colab-df-convert\" onclick=\"convertToInteractive('df-a9e42190-adec-49eb-9087-f0c8d5bdd3fd')\"\n",
              "              title=\"Convert this dataframe to an interactive table.\"\n",
              "              style=\"display:none;\">\n",
              "        \n",
              "  <svg xmlns=\"http://www.w3.org/2000/svg\" height=\"24px\"viewBox=\"0 0 24 24\"\n",
              "       width=\"24px\">\n",
              "    <path d=\"M0 0h24v24H0V0z\" fill=\"none\"/>\n",
              "    <path d=\"M18.56 5.44l.94 2.06.94-2.06 2.06-.94-2.06-.94-.94-2.06-.94 2.06-2.06.94zm-11 1L8.5 8.5l.94-2.06 2.06-.94-2.06-.94L8.5 2.5l-.94 2.06-2.06.94zm10 10l.94 2.06.94-2.06 2.06-.94-2.06-.94-.94-2.06-.94 2.06-2.06.94z\"/><path d=\"M17.41 7.96l-1.37-1.37c-.4-.4-.92-.59-1.43-.59-.52 0-1.04.2-1.43.59L10.3 9.45l-7.72 7.72c-.78.78-.78 2.05 0 2.83L4 21.41c.39.39.9.59 1.41.59.51 0 1.02-.2 1.41-.59l7.78-7.78 2.81-2.81c.8-.78.8-2.07 0-2.86zM5.41 20L4 18.59l7.72-7.72 1.47 1.35L5.41 20z\"/>\n",
              "  </svg>\n",
              "      </button>\n",
              "      \n",
              "  <style>\n",
              "    .colab-df-container {\n",
              "      display:flex;\n",
              "      flex-wrap:wrap;\n",
              "      gap: 12px;\n",
              "    }\n",
              "\n",
              "    .colab-df-convert {\n",
              "      background-color: #E8F0FE;\n",
              "      border: none;\n",
              "      border-radius: 50%;\n",
              "      cursor: pointer;\n",
              "      display: none;\n",
              "      fill: #1967D2;\n",
              "      height: 32px;\n",
              "      padding: 0 0 0 0;\n",
              "      width: 32px;\n",
              "    }\n",
              "\n",
              "    .colab-df-convert:hover {\n",
              "      background-color: #E2EBFA;\n",
              "      box-shadow: 0px 1px 2px rgba(60, 64, 67, 0.3), 0px 1px 3px 1px rgba(60, 64, 67, 0.15);\n",
              "      fill: #174EA6;\n",
              "    }\n",
              "\n",
              "    [theme=dark] .colab-df-convert {\n",
              "      background-color: #3B4455;\n",
              "      fill: #D2E3FC;\n",
              "    }\n",
              "\n",
              "    [theme=dark] .colab-df-convert:hover {\n",
              "      background-color: #434B5C;\n",
              "      box-shadow: 0px 1px 3px 1px rgba(0, 0, 0, 0.15);\n",
              "      filter: drop-shadow(0px 1px 2px rgba(0, 0, 0, 0.3));\n",
              "      fill: #FFFFFF;\n",
              "    }\n",
              "  </style>\n",
              "\n",
              "      <script>\n",
              "        const buttonEl =\n",
              "          document.querySelector('#df-a9e42190-adec-49eb-9087-f0c8d5bdd3fd button.colab-df-convert');\n",
              "        buttonEl.style.display =\n",
              "          google.colab.kernel.accessAllowed ? 'block' : 'none';\n",
              "\n",
              "        async function convertToInteractive(key) {\n",
              "          const element = document.querySelector('#df-a9e42190-adec-49eb-9087-f0c8d5bdd3fd');\n",
              "          const dataTable =\n",
              "            await google.colab.kernel.invokeFunction('convertToInteractive',\n",
              "                                                     [key], {});\n",
              "          if (!dataTable) return;\n",
              "\n",
              "          const docLinkHtml = 'Like what you see? Visit the ' +\n",
              "            '<a target=\"_blank\" href=https://colab.research.google.com/notebooks/data_table.ipynb>data table notebook</a>'\n",
              "            + ' to learn more about interactive tables.';\n",
              "          element.innerHTML = '';\n",
              "          dataTable['output_type'] = 'display_data';\n",
              "          await google.colab.output.renderOutput(dataTable, element);\n",
              "          const docLink = document.createElement('div');\n",
              "          docLink.innerHTML = docLinkHtml;\n",
              "          element.appendChild(docLink);\n",
              "        }\n",
              "      </script>\n",
              "    </div>\n",
              "  </div>\n",
              "  "
            ]
          },
          "metadata": {},
          "execution_count": 10
        }
      ]
    },
    {
      "cell_type": "markdown",
      "source": [
        "# 2.) Create your x_train/y_train data so that your RNN uses percentage change data to make a binary forecast where the stock moves up or down the next day\n",
        "# Build an RNN Architecture accordingly"
      ],
      "metadata": {
        "id": "foHoGy9hq3_o"
      }
    },
    {
      "cell_type": "code",
      "source": [
        "x_train = []\n",
        "y_train = []\n",
        "\n",
        "\n",
        "#############################################################\n",
        "####Pick your input size and edit to make binary forecast####\n",
        "#############################################################\n",
        "input_size = 5\n",
        "for i in range(input_size, len(train_data)):\n",
        "    x_train.append(train_data[i-input_size:i, 0])\n",
        "    y_train.append(train_data[i, 0])\n",
        "\n",
        "\n",
        "x_train, y_train = np.array(x_train), np.array(y_train)\n",
        "x_train = np.reshape(x_train, (x_train.shape[0], x_train.shape[1], 1))\n",
        "\n",
        "###################################\n",
        "####Build Your RNN Architecture####\n",
        "###################################\n",
        "model = Sequential()\n",
        "model.add(LSTM(x_train.shape[1], return_sequences=True, input_shape=(x_train.shape[1], 1)))\n",
        "model.add(LSTM(50, return_sequences=False))\n",
        "model.add(Dense(25,activation=\"relu\"))\n",
        "model.add(Dense(32,activation=\"sigmoid\"))\n",
        "\n",
        "\n",
        "\n",
        "\n",
        "model.compile(optimizer='adam', loss='mean_squared_error')\n",
        "model.fit(x_train, y_train, batch_size=1, epochs=3)"
      ],
      "metadata": {
        "id": "5qGFB5HfqcVd",
        "colab": {
          "base_uri": "https://localhost:8080/"
        },
        "outputId": "61faf046-1d3f-4e9f-fc19-cc25aeb441a4"
      },
      "execution_count": 68,
      "outputs": [
        {
          "output_type": "stream",
          "name": "stdout",
          "text": [
            "Epoch 1/3\n",
            "5055/5055 [==============================] - 24s 4ms/step - loss: 0.0052\n",
            "Epoch 2/3\n",
            "5055/5055 [==============================] - 21s 4ms/step - loss: 0.0031\n",
            "Epoch 3/3\n",
            "5055/5055 [==============================] - 22s 4ms/step - loss: 0.0031\n"
          ]
        },
        {
          "output_type": "execute_result",
          "data": {
            "text/plain": [
              "<keras.callbacks.History at 0x7fac41fd4cd0>"
            ]
          },
          "metadata": {},
          "execution_count": 68
        }
      ]
    },
    {
      "cell_type": "markdown",
      "source": [
        "# 3.) Test your model and compare insample Accurracy, insample random walk assumption Accuracy, Out of sample Accuracy and out of sample random walk assumption Accuracy using a bar chart"
      ],
      "metadata": {
        "id": "yFhO9vMjsWPk"
      }
    },
    {
      "cell_type": "code",
      "source": [
        "\n",
        "from sklearn.metrics import accuracy_score\n",
        "from sklearn.metrics import mean_squared_error\n",
        "\n",
        "test_data = scaled_data[training_data_len - input_size:, :]\n",
        "\n",
        "x_test = []\n",
        "y_test = np.array(stock_data[[\"Close\"]].pct_change().dropna())[training_data_len:, :]\n",
        "for i in range(input_size, len(test_data)):\n",
        "    x_test.append(test_data[i-input_size:i, 0])\n",
        "\n",
        "x_test = np.array(x_test)\n",
        "x_test = np.reshape(x_test, (x_test.shape[0], x_test.shape[1], 1))\n",
        "\n",
        "\n",
        "\n"
      ],
      "metadata": {
        "id": "r1Xj6Ji-rwnM"
      },
      "execution_count": 64,
      "outputs": []
    },
    {
      "cell_type": "code",
      "source": [
        "y_train_reshaped=y_train.reshape(5055,1)\n",
        "y_train_reshaped.shape"
      ],
      "metadata": {
        "colab": {
          "base_uri": "https://localhost:8080/"
        },
        "id": "CBBQBgrJ-h0O",
        "outputId": "0ab62635-f9c4-499c-b6cf-e742a2ff71c9"
      },
      "execution_count": 75,
      "outputs": [
        {
          "output_type": "execute_result",
          "data": {
            "text/plain": [
              "(5055, 1)"
            ]
          },
          "metadata": {},
          "execution_count": 75
        }
      ]
    },
    {
      "cell_type": "code",
      "source": [
        "#Random Walk\n",
        "in_sample_rw_y_true=y_train[1:] #Actual\n",
        "in_sample_rw_y_pred=y_train[:-1] #Prediction\n",
        "\n",
        "#Random Walk\n",
        "out_of_sample_rw_y_true=y_test[1:] #Actual\n",
        "out_of_sample_rw_y_pred=y_test[:-1] #Prediction"
      ],
      "metadata": {
        "id": "Mvo2INihZMhk"
      },
      "execution_count": 80,
      "outputs": []
    },
    {
      "cell_type": "code",
      "source": [
        "#In-sample RW RMSE\n",
        "in_sample_rw_rmse=np.sqrt(np.mean(in_sample_rw_y_pred-in_sample_rw_y_true)**2)\n",
        "print('In sample RW RMSE:',in_sample_rw_rmse)"
      ],
      "metadata": {
        "colab": {
          "base_uri": "https://localhost:8080/"
        },
        "id": "xSfX9xTFIrWC",
        "outputId": "4e757bf3-97ae-4aa6-e700-f7dfcc303e03"
      },
      "execution_count": 82,
      "outputs": [
        {
          "output_type": "stream",
          "name": "stdout",
          "text": [
            "In sample RW RMSE: 1.6477156118887757e-05\n"
          ]
        }
      ]
    },
    {
      "cell_type": "code",
      "source": [
        "#Out-of-sample RW RMSE\n",
        "out_of_sample_rw_rmse=np.sqrt(np.mean(out_of_sample_rw_y_pred-out_of_sample_rw_y_true)**2)\n",
        "print('Out of sample RW RMSE:',out_of_sample_rw_rmse)"
      ],
      "metadata": {
        "colab": {
          "base_uri": "https://localhost:8080/"
        },
        "id": "yBN0hcvZJ2Tj",
        "outputId": "fcc4499c-572c-4b54-ac5e-aa2b4dabde91"
      },
      "execution_count": 83,
      "outputs": [
        {
          "output_type": "stream",
          "name": "stdout",
          "text": [
            "Out of sample RW RMSE: 2.666226038487651e-05\n"
          ]
        }
      ]
    },
    {
      "cell_type": "code",
      "source": [
        "#In-sample RMSE\n",
        "y_train_pred=model.predict(x_train)\n",
        "in_sample_rmse=np.sqrt(np.mean(y_train_pred-y_train_reshaped)**2)\n",
        "print('In sample RMSE:',in_sample_rmse)"
      ],
      "metadata": {
        "colab": {
          "base_uri": "https://localhost:8080/"
        },
        "id": "WbzxuGw3D-D4",
        "outputId": "9165a6ab-3502-475d-f9a5-47cdef6c8ebb"
      },
      "execution_count": 78,
      "outputs": [
        {
          "output_type": "stream",
          "name": "stdout",
          "text": [
            "158/158 [==============================] - 0s 2ms/step\n",
            "In sample RMSE: 0.0012676201172117255\n"
          ]
        }
      ]
    },
    {
      "cell_type": "code",
      "source": [
        "#Out-of-sample RMSE\n",
        "y_test_pred=model.predict(x_test)\n",
        "out_of_sample_rmse=np.sqrt(np.mean(y_test_pred-y_test)**2)\n",
        "print('Out of sample RMSE:',out_of_sample_rmse)"
      ],
      "metadata": {
        "id": "35O_7b3iX1cX",
        "colab": {
          "base_uri": "https://localhost:8080/"
        },
        "outputId": "b6332ade-15b7-4ea6-bcb4-0352db73b64b"
      },
      "execution_count": 79,
      "outputs": [
        {
          "output_type": "stream",
          "name": "stdout",
          "text": [
            "40/40 [==============================] - 0s 3ms/step\n",
            "Out of sample RMSE: 0.003581923611819438\n"
          ]
        }
      ]
    },
    {
      "cell_type": "code",
      "source": [
        "import matplotlib.pyplot as plt\n",
        "plt.figure(figsize=(10, 6))\n",
        "rmse = [in_sample_rmse, in_sample_rw_rmse,\n",
        "              out_of_sample_rmse, out_of_sample_rw_rmse]\n",
        "labels = ['In-sample', 'In-sample Random Walk', 'Out-of-sample', 'Out-of-sample Random Walk']\n",
        "\n",
        "plt.bar(labels, rmse)\n",
        "plt.title('RMSE Comparison')\n",
        "plt.ylabel('RMSE')\n",
        "plt.show()"
      ],
      "metadata": {
        "id": "ZP_GJ8X-Wkln",
        "colab": {
          "base_uri": "https://localhost:8080/",
          "height": 390
        },
        "outputId": "6b2a93e1-acba-4b9b-b187-032cd2457e70"
      },
      "execution_count": 88,
      "outputs": [
        {
          "output_type": "display_data",
          "data": {
            "text/plain": [
              "<Figure size 720x432 with 1 Axes>"
            ],
            "image/png": "[encoded data removed]"
          },
          "metadata": {
            "needs_background": "light"
          }
        }
      ]
    },
    {
      "cell_type": "markdown",
      "source": [
        "#5.) Write an observation/conclusion about the graphs from Q4 and Q3"
      ],
      "metadata": {
        "id": "bK_jyyEEtTUB"
      }
    },
    {
      "cell_type": "markdown",
      "source": [
        "From the bar plot from question 3, we can see that the RMSE of random walk data is very small compared to the RMSE of non-random-walk data. In addition, the RMSE of in-sample data is also smaller than that of out-of-sample data."
      ],
      "metadata": {
        "id": "-7xcBa3SMIFO"
      }
    }
  ]
}
