{
 "cells": [
  {
   "cell_type": "code",
   "execution_count": 1,
   "id": "79760021",
   "metadata": {},
   "outputs": [],
   "source": [
    "# Set up\n",
    "import pandas as pd\n",
    "import numpy as np\n",
    "from sklearn.metrics import mean_squared_error\n",
    "import itertools\n",
    "from scipy import stats\n",
    "\n",
    "import matplotlib.pyplot as plt\n",
    "import seaborn as sns\n",
    "import altair as alt\n",
    "\n",
    "import statsmodels.api as sm\n",
    "import statsmodels.formula.api as smf\n",
    "import scipy\n",
    "from scipy.stats import anderson\n",
    "from statsmodels.tools.eval_measures import rmse\n",
    "from statsmodels.tsa.stattools import adfuller\n",
    "from statsmodels.graphics.tsaplots import month_plot, seasonal_plot, plot_acf, plot_pacf, quarter_plot\n",
    "from statsmodels.tsa.seasonal import seasonal_decompose\n",
    "from statsmodels.tsa.holtwinters import ExponentialSmoothing, SimpleExpSmoothing\n",
    "from statsmodels.tsa.api import VAR\n",
    "from statsmodels.tsa.vector_ar.var_model import VARResults\n",
    "from statsmodels.tsa.stattools import grangercausalitytests\n",
    "\n",
    "from statsmodels.tsa.statespace.tools import diff as diff\n",
    "import pmdarima as pm\n",
    "from pmdarima import ARIMA, auto_arima\n",
    "from scipy import signal\n",
    "from scipy.stats import boxcox\n",
    "from scipy.special import inv_boxcox\n",
    "from statsmodels.tsa.seasonal import STL\n",
    "from statsmodels.tsa.exponential_smoothing.ets import ETSModel\n",
    "from sklearn.preprocessing import StandardScaler\n",
    "from statsmodels.tsa.stattools import acf, pacf\n",
    "import warnings\n",
    "warnings.filterwarnings(\"ignore\")"
   ]
  },
  {
   "cell_type": "markdown",
   "id": "5c0cd84a",
   "metadata": {},
   "source": [
    "### 7.8"
   ]
  },
  {
   "cell_type": "markdown",
   "id": "d61b18f1",
   "metadata": {},
   "source": [
    "### (a)"
   ]
  },
  {
   "cell_type": "code",
   "execution_count": 2,
   "id": "832ce4d0",
   "metadata": {},
   "outputs": [
    {
     "data": {
      "text/plain": [
       "Date\n",
       "1982-04-01    1250.2\n",
       "1982-05-01    1300.0\n",
       "1982-06-01    1234.2\n",
       "1982-07-01    1265.0\n",
       "1982-08-01    1217.6\n",
       "               ...  \n",
       "2013-08-01    6675.2\n",
       "2013-09-01    6604.1\n",
       "2013-10-01    7026.9\n",
       "2013-11-01    7391.1\n",
       "2013-12-01    9185.3\n",
       "Name: Turnover ;  New South Wales ;  Total (Industry) ;, Length: 381, dtype: float64"
      ]
     },
     "execution_count": 2,
     "metadata": {},
     "output_type": "execute_result"
    }
   ],
   "source": [
    "df_retail=pd.read_excel('retail.xlsx')\n",
    "df_retail['Date']= pd.to_datetime(df_retail['Date'])\n",
    "df_retail.set_index('Date',inplace=True)\n",
    "df_retail_all = df_retail['Turnover ;  New South Wales ;  Total (Industry) ;']\n",
    "df_retail_all"
   ]
  },
  {
   "cell_type": "code",
   "execution_count": 3,
   "id": "ce30ef40",
   "metadata": {},
   "outputs": [
    {
     "data": {
      "text/plain": [
       "Text(0, 0.5, 'Sales')"
      ]
     },
     "execution_count": 3,
     "metadata": {},
     "output_type": "execute_result"
    },
    {
     "data": {
      "image/png": "[encoded data removed]",
      "text/plain": [
       "<Figure size 432x288 with 1 Axes>"
      ]
     },
     "metadata": {
      "needs_background": "light"
     },
     "output_type": "display_data"
    }
   ],
   "source": [
    "plt.plot(df_retail_all)\n",
    "plt.title('Retail Sales of All Items in New South Wales over Time')\n",
    "plt.xlabel('Year')\n",
    "plt.ylabel('Sales')"
   ]
  },
  {
   "cell_type": "markdown",
   "id": "fe6d8bca",
   "metadata": {},
   "source": [
    "From above plot, we can see that the magnitude of the seasonal pattern changes as the series evolves. Since the seasonal variation becomes larger as the year of the series increases, multiplicative seasonality can capture this relationship more accurately. Multiplicative seasonality allows for a proportional change in the seasonal effect as the series values change and it is necessary for this series."
   ]
  },
  {
   "cell_type": "markdown",
   "id": "130e2f8a",
   "metadata": {},
   "source": [
    "### (b)"
   ]
  },
  {
   "cell_type": "code",
   "execution_count": 4,
   "id": "f721e47e",
   "metadata": {},
   "outputs": [],
   "source": [
    "model_hw_undam = ExponentialSmoothing(df_retail_all, trend=\"mul\", damped=False).fit()\n",
    "model_hw_dam = ExponentialSmoothing(df_retail_all, trend=\"mul\", damped=True).fit()"
   ]
  },
  {
   "cell_type": "markdown",
   "id": "f319462f",
   "metadata": {},
   "source": [
    "### (c)"
   ]
  },
  {
   "cell_type": "code",
   "execution_count": 5,
   "id": "cdb981b3",
   "metadata": {},
   "outputs": [],
   "source": [
    "# Split the data into training and testing sets\n",
    "train_data_hw = df_retail_all[:-1]  # Use all data except the last point for training\n",
    "test_data_hw = df_retail_all[-1:]  # Use the last point as the test data"
   ]
  },
  {
   "cell_type": "code",
   "execution_count": 6,
   "id": "f29aaa24",
   "metadata": {},
   "outputs": [
    {
     "name": "stdout",
     "output_type": "stream",
     "text": [
      "RMSE of undamped Holt-Winters Model: 2344.8753594456866\n",
      "RMSE of damped Holt-Winters Model: 2381.7913140007295\n"
     ]
    }
   ],
   "source": [
    "##RMSE of undamped Holt-Winters Model\n",
    "\n",
    "# Fit the Holt-Winters' model to the training data\n",
    "model_hw_undam1 = ExponentialSmoothing(train_data_hw, trend=\"mul\", damped=False).fit()\n",
    "\n",
    "# Generate a one-step forecast for the testing data\n",
    "forecast_hw_undam1 = model_hw_undam1.forecast(steps=1)\n",
    "\n",
    "# Calculate RMSE\n",
    "mse_hw_undam1 = mean_squared_error(test_data_hw, forecast_hw_undam1)\n",
    "rmse_hw_undam1 = np.sqrt(mse_hw_undam1)\n",
    "\n",
    "\n",
    "##RMSE of damped Holt-Winters Model\n",
    "\n",
    "# Fit the Holt-Winters' model to the training data\n",
    "model_hw_dam1 = ExponentialSmoothing(train_data_hw, trend=\"mul\", damped=True).fit()\n",
    "\n",
    "# Generate a one-step forecast for the testing data\n",
    "forecast_hw_dam1 = model_hw_dam1.forecast(steps=1)\n",
    "\n",
    "# Calculate RMSE\n",
    "mse_hw_dam1 = mean_squared_error(test_data_hw, forecast_hw_dam1)\n",
    "rmse_hw_dam1 = np.sqrt(mse_hw_dam1)\n",
    "\n",
    "print(\"RMSE of undamped Holt-Winters Model:\", rmse_hw_undam1)\n",
    "print(\"RMSE of damped Holt-Winters Model:\", rmse_hw_dam1)"
   ]
  },
  {
   "cell_type": "markdown",
   "id": "df45288f",
   "metadata": {},
   "source": [
    "Since the RMSE of undamped Holt-Winters model is smaller, I prefer undamped Holt-Winters model."
   ]
  },
  {
   "cell_type": "markdown",
   "id": "86bca81f",
   "metadata": {},
   "source": [
    "### (d)"
   ]
  },
  {
   "cell_type": "code",
   "execution_count": 7,
   "id": "f7594cab",
   "metadata": {},
   "outputs": [
    {
     "data": {
      "image/png": "[encoded data removed]",
      "text/plain": [
       "<Figure size 432x288 with 1 Axes>"
      ]
     },
     "metadata": {
      "needs_background": "light"
     },
     "output_type": "display_data"
    }
   ],
   "source": [
    "# Generate predictions for the data\n",
    "predictions_hw_undam = model_hw_undam.fittedvalues\n",
    "\n",
    "# Calculate the residuals\n",
    "residuals_hw_undam = df_retail_all - predictions_hw_undam\n",
    "\n",
    "# Plot the residuals\n",
    "plt.plot(residuals_hw_undam)\n",
    "plt.title(\"Residuals from Undamped Holt-Winters Model\")\n",
    "plt.xlabel(\"Time\")\n",
    "plt.ylabel(\"Residuals\")\n",
    "plt.show()"
   ]
  },
  {
   "cell_type": "markdown",
   "id": "59b1316b",
   "metadata": {},
   "source": [
    "Even though it seems that the magnitude of the residuals above is increasing as time passes by, there is no significant structure of the residuals, indicating that the residuals resemble white noise."
   ]
  },
  {
   "cell_type": "markdown",
   "id": "1c90ad88",
   "metadata": {},
   "source": [
    "### (e)"
   ]
  },
  {
   "cell_type": "code",
   "execution_count": 8,
   "id": "ae6ff2a5",
   "metadata": {},
   "outputs": [],
   "source": [
    "train_data_hw1 = df_retail_all[:'2010-12-01']\n",
    "test_data_hw1 = df_retail_all['2011-01-01':]"
   ]
  },
  {
   "cell_type": "code",
   "execution_count": 9,
   "id": "60aa7ce4",
   "metadata": {},
   "outputs": [],
   "source": [
    "##RMSE of undamped Holt-Winters Model\n",
    "\n",
    "# Fit the Holt-Winters' model to the training data\n",
    "model_hw_undam2 = ExponentialSmoothing(train_data_hw1, trend=\"mul\", damped=False).fit()\n",
    "\n",
    "# Generate forecasts for the testing data\n",
    "forecast_hw_undam2 = model_hw_undam2.forecast(steps=len(test_data_hw1))\n",
    "\n",
    "# Calculate RMSE\n",
    "mse_hw_undam2 = mean_squared_error(test_data_hw1, forecast_hw_undam2)\n",
    "rmse_hw_undam2 = np.sqrt(mse_hw_undam2)"
   ]
  },
  {
   "cell_type": "code",
   "execution_count": 10,
   "id": "e0d8fe42",
   "metadata": {},
   "outputs": [],
   "source": [
    "##RMSE of the seasonal naïve approach\n",
    "\n",
    "# Fit the seasonal naïve approach to the training data\n",
    "model_hw_undam3 = ExponentialSmoothing(train_data_hw1, seasonal='add', seasonal_periods=12).fit()\n",
    "\n",
    "# Generate forecasts for the testing data\n",
    "forecast_hw_undam3 = model_hw_undam3.forecast(steps=len(test_data_hw1))\n",
    "\n",
    "# Calculate RMSE\n",
    "mse_hw_undam3 = mean_squared_error(test_data_hw1, forecast_hw_undam3)\n",
    "rmse_hw_undam3 = np.sqrt(mse_hw_undam3)"
   ]
  },
  {
   "cell_type": "code",
   "execution_count": 11,
   "id": "b9f49793",
   "metadata": {},
   "outputs": [
    {
     "name": "stdout",
     "output_type": "stream",
     "text": [
      "RMSE of undamped Holt-Winters Model: 883.6073536876124\n",
      "RMSE of the seasonal naïve approach: 329.47229594548116\n"
     ]
    }
   ],
   "source": [
    "print(\"RMSE of undamped Holt-Winters Model:\", rmse_hw_undam2)\n",
    "print(\"RMSE of the seasonal naïve approach:\", rmse_hw_undam3)"
   ]
  },
  {
   "cell_type": "markdown",
   "id": "cbc0f87d",
   "metadata": {},
   "source": [
    "Since the RMSE of the seasonal naïve approach is smaller, I cannot beat the seasonal naïve approach."
   ]
  },
  {
   "cell_type": "markdown",
   "id": "4cb0e777",
   "metadata": {},
   "source": [
    "### 7.9"
   ]
  },
  {
   "cell_type": "code",
   "execution_count": 12,
   "id": "f107789e",
   "metadata": {},
   "outputs": [
    {
     "name": "stdout",
     "output_type": "stream",
     "text": [
      "RMSE of ETS Model: 6623.328519183246\n",
      "RMSE of the seasonal naïve approach: 329.47229594548116\n"
     ]
    }
   ],
   "source": [
    "# Perform STL decomposition on the Box-Cox transformed series\n",
    "transformed_train, lambda_value = stats.boxcox(train_data_hw1)\n",
    "transformed_train = pd.Series(transformed_train, index=train_data_hw1.index)\n",
    "decomposition = seasonal_decompose(transformed_train, model='multiplicative', extrapolate_trend='freq')\n",
    "\n",
    "# Obtain the seasonally adjusted component from the decomposition\n",
    "seasonally_adjusted = decomposition.resid\n",
    "\n",
    "# Fit ETS model on the seasonally adjusted data\n",
    "model_ets = ETSModel(seasonally_adjusted, error='add', trend='add',\n",
    "                     damped_trend=False, seasonal='add', seasonal_periods=13).fit()\n",
    "\n",
    "# Make forecasts on the test set\n",
    "fc = model_ets.forecast(len(test_data_hw1))\n",
    "\n",
    "# Inverse transform the forecasts using the Box-Cox transformation\n",
    "inv_fc = inv_boxcox(fc, lambda_value)\n",
    "\n",
    "# Calculate RMSE\n",
    "mse_ets = mean_squared_error(test_data_hw1, inv_fc)\n",
    "rmse_ets = np.sqrt(mse_ets)\n",
    "\n",
    "print(\"RMSE of ETS Model:\", rmse_ets)\n",
    "print(\"RMSE of the seasonal naïve approach:\", rmse_hw_undam3)"
   ]
  },
  {
   "cell_type": "markdown",
   "id": "72fcf3fd",
   "metadata": {},
   "source": [
    "The ETS model has much higher RMSE compared to the RMSE of the best previous forecast on the test set, so I think the previous model is still better."
   ]
  }
 ],
 "metadata": {
  "kernelspec": {
   "display_name": "Python 3 (ipykernel)",
   "language": "python",
   "name": "python3"
  },
  "language_info": {
   "codemirror_mode": {
    "name": "ipython",
    "version": 3
   },
   "file_extension": ".py",
   "mimetype": "text/x-python",
   "name": "python",
   "nbconvert_exporter": "python",
   "pygments_lexer": "ipython3",
   "version": "3.9.12"
  }
 },
 "nbformat": 4,
 "nbformat_minor": 5
}
